{
 "cells": [
  {
   "cell_type": "markdown",
   "id": "f42bc8d5",
   "metadata": {
    "toc": true
   },
   "source": [
    "<h1>Table of Contents<span class=\"tocSkip\"></span></h1>\n",
    "<div class=\"toc\"><ul class=\"toc-item\"><li><span><a href=\"#Prelude\" data-toc-modified-id=\"Prelude-1\"><span class=\"toc-item-num\">1&nbsp;&nbsp;</span>Prelude</a></span></li><li><span><a href=\"#Utilities-(as-before)\" data-toc-modified-id=\"Utilities-(as-before)-2\"><span class=\"toc-item-num\">2&nbsp;&nbsp;</span>Utilities (as before)</a></span></li><li><span><a href=\"#Finding-Shortest-Path-(as-before)\" data-toc-modified-id=\"Finding-Shortest-Path-(as-before)-3\"><span class=\"toc-item-num\">3&nbsp;&nbsp;</span>Finding Shortest Path (as before)</a></span></li><li><span><a href=\"#Finding-Shortest-Delivery-Route-(as-before)\" data-toc-modified-id=\"Finding-Shortest-Delivery-Route-(as-before)-4\"><span class=\"toc-item-num\">4&nbsp;&nbsp;</span>Finding Shortest Delivery Route (as before)</a></span></li><li><span><a href=\"#Time-Handling\" data-toc-modified-id=\"Time-Handling-5\"><span class=\"toc-item-num\">5&nbsp;&nbsp;</span>Time Handling</a></span></li><li><span><a href=\"#Class-Recorder\" data-toc-modified-id=\"Class-Recorder-6\"><span class=\"toc-item-num\">6&nbsp;&nbsp;</span>Class Recorder</a></span></li><li><span><a href=\"#Class-Parcel\" data-toc-modified-id=\"Class-Parcel-7\"><span class=\"toc-item-num\">7&nbsp;&nbsp;</span>Class Parcel</a></span></li><li><span><a href=\"#Class-Customer\" data-toc-modified-id=\"Class-Customer-8\"><span class=\"toc-item-num\">8&nbsp;&nbsp;</span>Class Customer</a></span></li><li><span><a href=\"#Class-Driver\" data-toc-modified-id=\"Class-Driver-9\"><span class=\"toc-item-num\">9&nbsp;&nbsp;</span>Class Driver</a></span></li><li><span><a href=\"#Class-Delivery-Centre\" data-toc-modified-id=\"Class-Delivery-Centre-10\"><span class=\"toc-item-num\">10&nbsp;&nbsp;</span>Class Delivery Centre</a></span></li><li><span><a href=\"#Simulation\" data-toc-modified-id=\"Simulation-11\"><span class=\"toc-item-num\">11&nbsp;&nbsp;</span>Simulation</a></span><ul class=\"toc-item\"><li><span><a href=\"#Parameters-from-Specification\" data-toc-modified-id=\"Parameters-from-Specification-11.1\"><span class=\"toc-item-num\">11.1&nbsp;&nbsp;</span>Parameters from Specification</a></span></li><li><span><a href=\"#Generate-Input-Data\" data-toc-modified-id=\"Generate-Input-Data-11.2\"><span class=\"toc-item-num\">11.2&nbsp;&nbsp;</span>Generate Input Data</a></span></li><li><span><a href=\"#Simulation-Routine\" data-toc-modified-id=\"Simulation-Routine-11.3\"><span class=\"toc-item-num\">11.3&nbsp;&nbsp;</span>Simulation Routine</a></span></li><li><span><a href=\"#Model-Verification\" data-toc-modified-id=\"Model-Verification-11.4\"><span class=\"toc-item-num\">11.4&nbsp;&nbsp;</span>Model Verification</a></span></li></ul></li></ul></div>"
   ]
  },
  {
   "cell_type": "markdown",
   "id": "ec57130e",
   "metadata": {},
   "source": [
    "# Prelude"
   ]
  },
  {
   "cell_type": "code",
   "execution_count": 1,
   "id": "7bfcffb3",
   "metadata": {
    "ExecuteTime": {
     "end_time": "2023-04-13T17:28:42.052308Z",
     "start_time": "2023-04-13T17:28:40.475242Z"
    }
   },
   "outputs": [],
   "source": [
    "import matplotlib.pyplot as plt\n",
    "import pulp\n",
    "import math\n",
    "import random\n",
    "import pandas as pd\n",
    "import numpy as np\n",
    "import time\n",
    "import simpy"
   ]
  },
  {
   "cell_type": "markdown",
   "id": "5b54bfd8",
   "metadata": {
    "heading_collapsed": true
   },
   "source": [
    "# Utilities (as before)"
   ]
  },
  {
   "cell_type": "markdown",
   "id": "b099e9f1-cb1e-4884-8400-774decdec27d",
   "metadata": {},
   "source": [
    "## Points and Distances"
   ]
  },
  {
   "cell_type": "code",
   "execution_count": 2,
   "id": "6b7d165d-e683-4847-b0f3-16c6bf409ce0",
   "metadata": {},
   "outputs": [],
   "source": [
    "def dist(p1, p2):\n",
    "    (x1, y1) = p1\n",
    "    (x2, y2) = p2\n",
    "    return int(math.sqrt((x1-x2)**2+(y1-y2)**2))"
   ]
  },
  {
   "cell_type": "markdown",
   "id": "c7982679-5f22-4fc8-8a4f-4743a989dfcd",
   "metadata": {
    "ExecuteTime": {
     "end_time": "2023-04-13T17:28:42.057644Z",
     "start_time": "2023-04-13T17:28:42.055424Z"
    },
    "hidden": true
   },
   "source": [
    "## PlotMap"
   ]
  },
  {
   "cell_type": "code",
   "execution_count": 3,
   "id": "01ba605f",
   "metadata": {
    "ExecuteTime": {
     "end_time": "2023-04-13T17:28:42.068161Z",
     "start_time": "2023-04-13T17:28:42.059395Z"
    },
    "hidden": true
   },
   "outputs": [],
   "source": [
    "def plotMap(G, T=[], P=[], W=None,\n",
    "            style='r-o', lw=1, ms=3, \n",
    "            styleT='go', msT=5,\n",
    "            styleP='b-o', lwP=3, msP=1,\n",
    "            stylePT='go', msPT=7,\n",
    "            styleW='bo', msW=9,\n",
    "            text=None, grid=False):\n",
    "    fig = plt.gcf()\n",
    "    fig.set_size_inches(6, 6)\n",
    "    V, E = G\n",
    "\n",
    "    if not grid:\n",
    "        plt.axis('off')\n",
    "    plt.plot( [ p[0] for p in V ], [ p[1] for p in V ], 'ro', lw=lw, ms=ms)\n",
    "    for (p, q) in E:\n",
    "        plt.plot( [ p[0], q[0] ], [ p[1], q[1] ], 'r-o', lw=lw, ms=ms)\n",
    "    for t in T:\n",
    "        plt.plot( [ t[0] ], [ t[1] ], \n",
    "                  styleT, ms=msT)\n",
    "    plt.plot( [ p[0] for p in P ],\n",
    "              [ p[1] for p in P ], \n",
    "              styleP, lw=lwP, ms=msP)\n",
    "    for p in P:\n",
    "        if p in T:\n",
    "            plt.plot( [ p[0] ], [ p[1] ], \n",
    "                      stylePT, ms=msPT)\n",
    "    if W is not None:\n",
    "        plt.plot( [ W[0] ], [ W[1] ], \n",
    "                      styleW, ms=msW)\n",
    "    if text is not None:\n",
    "        maxX = max([p[0] for p in V])\n",
    "        plt.text(0.8*maxX, 0, text)\n",
    "    if grid:\n",
    "        plt.grid()\n",
    "    plt.show()"
   ]
  },
  {
   "cell_type": "markdown",
   "id": "fa825024-2e59-4e3a-955b-3d14c0c36e80",
   "metadata": {},
   "source": [
    "## Add Targets"
   ]
  },
  {
   "cell_type": "code",
   "execution_count": 4,
   "id": "745241cb-95a5-470f-8f61-739bd31302f6",
   "metadata": {},
   "outputs": [],
   "source": [
    "def addTargets(M, T):\n",
    "    V, E = M\n",
    "    E = E.copy()\n",
    "    V = V.copy()\n",
    "    for t in T:\n",
    "        minD = math.inf\n",
    "        minE = None\n",
    "        for e in E:\n",
    "            P, Q = e\n",
    "            distT = dist(P, t)+dist(t, Q)-dist(P, Q)\n",
    "            if distT < minD:\n",
    "                minD = distT\n",
    "                minE = e\n",
    "        P, Q = minE\n",
    "        E.remove( (P, Q) )\n",
    "        E.append( (P, t) )\n",
    "        E.append( (t, Q) )\n",
    "        V.append(t)\n",
    "    return V, E"
   ]
  },
  {
   "cell_type": "markdown",
   "id": "0d627c12-0a9b-4180-9824-26b53d73ecbf",
   "metadata": {},
   "source": [
    "## Generate Warehouse Location"
   ]
  },
  {
   "cell_type": "code",
   "execution_count": 5,
   "id": "0c4e4ed1-cbdd-46e5-b243-34be1e954546",
   "metadata": {},
   "outputs": [],
   "source": [
    "def generateWarehouseLocation(M):\n",
    "    V, _ = M\n",
    "    W = random.sample(V, k=1)[0]\n",
    "    return W"
   ]
  },
  {
   "cell_type": "markdown",
   "id": "58315c6a-3e39-46b3-a5dd-7b21283d939b",
   "metadata": {},
   "source": [
    "## Time Handling"
   ]
  },
  {
   "cell_type": "markdown",
   "id": "bba6bb52-b0fa-4845-86d9-50ca4b70c0b5",
   "metadata": {},
   "source": [
    "**Convention:** In this project we measure time in seconds. The simulation will start at 0:00. Time related methods will be added as they are needed."
   ]
  },
  {
   "cell_type": "markdown",
   "id": "76128002-dfa1-40ef-afa2-3aec3bb409c0",
   "metadata": {},
   "source": [
    "`timestamp(t)` generates a timestamp string in the form `[dd] hh:mm:ss.d`"
   ]
  },
  {
   "cell_type": "code",
   "execution_count": 6,
   "id": "be0dcd1e",
   "metadata": {
    "ExecuteTime": {
     "end_time": "2023-04-13T17:28:42.110025Z",
     "start_time": "2023-04-13T17:28:42.106407Z"
    }
   },
   "outputs": [],
   "source": [
    "    def timestamp(t):\n",
    "        day = int(t)//(24*3600)\n",
    "        t = t - day*24*3600\n",
    "        hour = int(t)//3600\n",
    "        t = t - hour*3600\n",
    "        mins = int(t)//60\n",
    "        t = t - mins*60\n",
    "        secs = int(math.floor(t))\n",
    "        t = int(math.floor((t - secs)*10))\n",
    "        return f\"[{day:2d}] {hour:02d}:{mins:02d}:{secs:02d}.{t:1d}\""
   ]
  },
  {
   "cell_type": "code",
   "execution_count": 7,
   "id": "a4bc1fce",
   "metadata": {
    "ExecuteTime": {
     "end_time": "2023-04-13T17:28:42.118679Z",
     "start_time": "2023-04-13T17:28:42.114544Z"
    }
   },
   "outputs": [
    {
     "data": {
      "text/plain": [
       "'[ 3] 17:10:15.0'"
      ]
     },
     "execution_count": 7,
     "metadata": {},
     "output_type": "execute_result"
    }
   ],
   "source": [
    "timestamp(24*3600*3+17*3600+615.1)"
   ]
  },
  {
   "cell_type": "code",
   "execution_count": 8,
   "id": "7915aa78",
   "metadata": {
    "ExecuteTime": {
     "end_time": "2023-04-13T17:28:42.122617Z",
     "start_time": "2023-04-13T17:28:42.120176Z"
    }
   },
   "outputs": [],
   "source": [
    "def nextHour(env, hour):\n",
    "    beginningOfDay = int(env.now//(24*3600))*24*3600\n",
    "    timeOfDay = env.now-beginningOfDay\n",
    "    if hour*3600 > timeOfDay:\n",
    "        return hour*3600 - timeOfDay\n",
    "    else:\n",
    "        return hour*3600 + 24*3600 - timeOfDay"
   ]
  },
  {
   "cell_type": "code",
   "execution_count": 9,
   "id": "5866a8db",
   "metadata": {
    "ExecuteTime": {
     "end_time": "2023-04-13T17:28:42.127404Z",
     "start_time": "2023-04-13T17:28:42.124551Z"
    }
   },
   "outputs": [],
   "source": [
    "def day(now):\n",
    "    return int(now//(24*3600))"
   ]
  },
  {
   "cell_type": "markdown",
   "id": "f5f750e6-1d0d-44fd-8040-8b0f609e5093",
   "metadata": {},
   "source": [
    "## Plotting Routines"
   ]
  },
  {
   "cell_type": "code",
   "execution_count": 10,
   "id": "cf15febc-a724-4f48-af6e-0c094710bdcb",
   "metadata": {},
   "outputs": [],
   "source": [
    "import scipy.stats as stats\n",
    "\n",
    "def histplot(data, title=\"\", xlabel=\"\",\n",
    "             width=None, height=None):\n",
    "    \n",
    "    minx = min(data)\n",
    "    maxx = max(data)\n",
    "    μ = np.mean(data)\n",
    "    σ = np.std(data)\n",
    "    \n",
    "    fig = plt.figure()\n",
    "    fig.set_figwidth(width if width is not None else 4)\n",
    "    fig.set_figheight(height if height is not None else 2.5)\n",
    "    ax = fig.gca()\n",
    "        \n",
    "    hist=plt.hist(data, density=True)\n",
    "    plt.xlabel(xlabel)\n",
    "    plt.ylabel('Density')\n",
    "    plt.title(title)\n",
    "        \n",
    "    x = np.linspace(minx, maxx, 100)\n",
    "    y = [ stats.norm(loc=μ, scale=σ).pdf(p) for p in x]\n",
    "    ax.plot(x, y, lw=1, color='red')\n",
    "    ax.axvline(x=μ, color='red')\n",
    "    maxy = max(max(y), max(hist[0]))\n",
    "    ax.text(maxx, maxy, \n",
    "            f'μ={μ:2.2f}\\nσ={σ:2.2f}', \n",
    "            ha='right', va='top', \n",
    "            color='red', fontsize=12)\n",
    "    ax.grid(True)\n",
    "    plt.show()"
   ]
  },
  {
   "cell_type": "code",
   "execution_count": 11,
   "id": "e6b31ddd-5931-48fd-bb36-50ae60c6a4c7",
   "metadata": {},
   "outputs": [],
   "source": [
    "def dailyPlot(data, \n",
    "              title=\"\", ylabel=\"\",\n",
    "              width=None, height=None):\n",
    "    \n",
    "    days = len(data)\n",
    "    \n",
    "    fig = plt.figure()\n",
    "    fig.set_figwidth(width if width is not None else 6)\n",
    "    fig.set_figheight(height if height is not None else 2)\n",
    "    \n",
    "    ax = fig.gca()\n",
    "    diff = (max(data)-min(data))*0.1\n",
    "    ymin = int(math.floor(min(data)-diff))\n",
    "    ymax = int(math.ceil(max(data)+diff))\n",
    "    ax.set_xlim(-1, days)\n",
    "    ax.set_ylim(ymin, ymax)\n",
    "    ax.grid(True)\n",
    "    \n",
    "    ms = 2 if len(data)>100 else 5\n",
    "    lw = 0.5 if len(data)>100 else 1\n",
    "\n",
    "    x = np.arange(0, len(data))\n",
    "    y = np.array([ y for y in data ])\n",
    "    b, m = np.polynomial.polynomial.polyfit(x, y, 1)\n",
    "    \n",
    "    plt.plot(x, y, 'bo-', linewidth=lw, markersize=ms)\n",
    "    plt.plot(x, m*x+b, 'r-')\n",
    "    \n",
    "    plt.xlabel('Day')\n",
    "    plt.ylabel(ylabel)\n",
    "    plt.title(title)\n",
    "    plt.show()"
   ]
  },
  {
   "cell_type": "markdown",
   "id": "6a210754",
   "metadata": {
    "heading_collapsed": true
   },
   "source": [
    "# Finding Shortest Path (as before)"
   ]
  },
  {
   "cell_type": "code",
   "execution_count": 12,
   "id": "6632106e",
   "metadata": {
    "ExecuteTime": {
     "end_time": "2023-04-13T17:28:42.074585Z",
     "start_time": "2023-04-13T17:28:42.071575Z"
    },
    "hidden": true
   },
   "outputs": [],
   "source": [
    "def dist(p1, p2):\n",
    "    (x1, y1) = p1\n",
    "    (x2, y2) = p2\n",
    "    return int(math.sqrt((x1-x2)**2+(y1-y2)**2))"
   ]
  },
  {
   "cell_type": "code",
   "execution_count": 13,
   "id": "8344c604",
   "metadata": {
    "ExecuteTime": {
     "end_time": "2023-04-13T17:28:42.079458Z",
     "start_time": "2023-04-13T17:28:42.076537Z"
    },
    "hidden": true
   },
   "outputs": [],
   "source": [
    "def pathLength(P):\n",
    "    return 0 if len(P)<=1 else \\\n",
    "            dist(P[0], P[1])+pathLength(P[1:])"
   ]
  },
  {
   "cell_type": "code",
   "execution_count": 14,
   "id": "8d5f754b",
   "metadata": {
    "ExecuteTime": {
     "end_time": "2023-04-13T17:28:42.086475Z",
     "start_time": "2023-04-13T17:28:42.081011Z"
    },
    "hidden": true
   },
   "outputs": [],
   "source": [
    "def shortestPath(M, A, B):\n",
    "\n",
    "    def h(p): \n",
    "        return pathLength(p)+dist(p[-1],B)\n",
    "    \n",
    "    # candidates C are pairs of the path so far and \n",
    "    # the heuristic function of that path, \n",
    "    # sorted by the heuristic function, as maintained by\n",
    "    # insert function\n",
    "    def insert(C, p):\n",
    "        hp = h(p)\n",
    "        c = (p, hp)\n",
    "        for i in range(len(C)):\n",
    "            if C[i][1]>hp:\n",
    "                return C[:i]+[c]+C[i:]\n",
    "        return C+[c]   \n",
    "        \n",
    "    V, E = M\n",
    "    assert(A in V and B in V)    \n",
    "    C = insert([], [A])\n",
    "\n",
    "    while len(C)>0:\n",
    "        # take the first candidate out of the list of candidates\n",
    "        path, _ = C[0]\n",
    "        C = C[1:]\n",
    "        if path[-1]==B:\n",
    "            return path\n",
    "        else:\n",
    "            for (x, y) in E:\n",
    "                if path[-1]==x and y not in path:\n",
    "                    C = insert(C, path+[y])\n",
    "                elif path[-1]==y and x not in path:\n",
    "                    C = insert(C, path+[x])\n",
    "    return None"
   ]
  },
  {
   "cell_type": "markdown",
   "id": "a7ea55bb",
   "metadata": {
    "heading_collapsed": true
   },
   "source": [
    "# Finding Shortest Delivery Route (as before)"
   ]
  },
  {
   "cell_type": "markdown",
   "id": "2adafd13-1a66-4ed3-a1d4-5223b5d3fd21",
   "metadata": {},
   "source": [
    "## Iterative Integer Programming"
   ]
  },
  {
   "cell_type": "code",
   "execution_count": 15,
   "id": "02abdd22",
   "metadata": {
    "ExecuteTime": {
     "end_time": "2023-04-13T17:28:42.094309Z",
     "start_time": "2023-04-13T17:28:42.087846Z"
    },
    "hidden": true
   },
   "outputs": [],
   "source": [
    "def createTables(M, T):\n",
    "\n",
    "    def reverse(P):\n",
    "        return [ P[-i] for i in range(1,len(P)+1) ]\n",
    "    \n",
    "    def index(x, L):\n",
    "        for i in range(len(L)):\n",
    "            if x==L[i]: \n",
    "                return i\n",
    "        return None\n",
    "\n",
    "    n = len(T)\n",
    "    d = [ [ math.inf for t in T ] for t in T ]\n",
    "    p = [ [ None for t in T ] for t in T ]\n",
    "    for i in range(n):\n",
    "        d[i][i] = 0\n",
    "        p[i][i] = [ T[i] ]\n",
    "    for i in range(n):\n",
    "        for j in range(n):\n",
    "            if p[i][j] is None:\n",
    "                s = shortestPath(M, T[i], T[j])\n",
    "                d[i][j] = d[j][i] = pathLength(s)\n",
    "                p[i][j] = s\n",
    "                p[j][i] = reverse(s)\n",
    "                for m in range(len(s)-1):\n",
    "                    smi = index(s[m], T)\n",
    "                    if smi is None:\n",
    "                        continue\n",
    "                    for l in range(m+1, len(s)):\n",
    "                        sli = index(s[l], T)\n",
    "                        if sli is None:\n",
    "                            continue  \n",
    "                        sub = s[m:l+1]\n",
    "                        if p[smi][sli] is None:\n",
    "                            p[smi][sli] = sub\n",
    "                            p[sli][smi] = reverse(sub)\n",
    "                            d[smi][sli] = d[sli][smi] = pathLength(sub)\n",
    "    return d,p               "
   ]
  },
  {
   "cell_type": "code",
   "execution_count": 16,
   "id": "c92b7af8-c969-4d7b-aaa3-504a77d75548",
   "metadata": {},
   "outputs": [],
   "source": [
    "def roundtrips(x, n):\n",
    "    \n",
    "    def isElem(x, l):\n",
    "        for i in range(len(l)):\n",
    "            if l[i]==x:\n",
    "                return True\n",
    "        return False\n",
    "\n",
    "    def startpoint(trips):\n",
    "        for i in range(n):\n",
    "            for t in trips:\n",
    "                if isElem(i, t):\n",
    "                    break\n",
    "            else:\n",
    "                return i\n",
    "    \n",
    "    def totalLength(trips):\n",
    "        s=0\n",
    "        for i in range(0, len(trips)):\n",
    "            s += len(trips[i])-1\n",
    "        return s\n",
    "\n",
    "    trips = []\n",
    "    while totalLength(trips)<n:\n",
    "        start = startpoint(trips)\n",
    "        trip = [ start ]\n",
    "        i = start\n",
    "        while len(trip) < n-totalLength(trips):\n",
    "            for j in range(0, n):\n",
    "                if pulp.value(x[i][j])==1:\n",
    "                    trip.append(j)\n",
    "                    i=j\n",
    "                    break        \n",
    "            if pulp.value(x[trip[-1]][start])==1:\n",
    "                trip.append(start)\n",
    "                break\n",
    "        trips.append(trip)\n",
    "    return sorted(trips, key=lambda t: len(t), reverse=True)"
   ]
  },
  {
   "cell_type": "code",
   "execution_count": 17,
   "id": "aa0e7767",
   "metadata": {
    "ExecuteTime": {
     "end_time": "2023-04-13T17:28:42.105139Z",
     "start_time": "2023-04-13T17:28:42.095365Z"
    },
    "hidden": true
   },
   "outputs": [],
   "source": [
    "import time\n",
    "\n",
    "def createLoop(M, T, timing=False):\n",
    "    \n",
    "    if timing:\n",
    "        start_time = time.time()\n",
    "        last_time = time.time()\n",
    "        \n",
    "    D, P = createTables(M, T)   # These are the distances between customers and warehouse only\n",
    "    \n",
    "    if timing:\n",
    "        print(f\"createTables:   {time.time()-start_time:6.2f}s\")\n",
    "        last_time = time.time()\n",
    "        \n",
    "    n = len(T)\n",
    "\n",
    "    if n==1:\n",
    "        return T\n",
    "        \n",
    "    # create variables\n",
    "    x = pulp.LpVariable.dicts(\"x\", ( range(n), range(n) ),\n",
    "                            lowBound=0, upBound=1, cat=pulp.LpInteger)\n",
    "    # create problem\n",
    "    prob = pulp.LpProblem(\"Loop\",pulp.LpMinimize)\n",
    "    # add objective function\n",
    "    prob += pulp.lpSum([ D[i][j]*x[i][j] \n",
    "                             for i in range(n) for j in range(n) ])\n",
    "    # add constraints\n",
    "    constraints=0\n",
    "    for j in range(n):\n",
    "        prob += pulp.lpSum([ x[i][j] for i in range(n) if i!=j ]) ==1\n",
    "    constraints += n\n",
    "    for i in range(n):\n",
    "        prob += pulp.lpSum([ x[i][j] for j in range(n) if i!=j ]) ==1\n",
    "    constraints += n\n",
    "    for i in range(n):\n",
    "        for j in range(n):\n",
    "            if i!=j:\n",
    "                prob += x[i][j]+x[j][i] <= 1\n",
    "                constraints += 1\n",
    "    # initialise solver\n",
    "    solvers = pulp.listSolvers(onlyAvailable=True)\n",
    "    solver = pulp.getSolver(solvers[0], msg=0)\n",
    "    prob.solve(solver)\n",
    "\n",
    "    if timing:\n",
    "        print(f\"Solver:         {time.time()-last_time:6.2f}s {constraints:6,d} Constraints\")\n",
    "        last_time = time.time()\n",
    "\n",
    "    trips = roundtrips(x, n)\n",
    "    while len(trips)>1:\n",
    "        longest = max([ len(t) for t in trips ])\n",
    "        for t in trips:\n",
    "            if len(t)<longest:\n",
    "                prob += pulp.lpSum([ x[t[i]][t[i+1]] + x[t[i+1]][t[i]]\n",
    "                                        for i in range(0,len(t)-1) ]) <= len(t)-2\n",
    "                constraints += 1\n",
    "            else:\n",
    "                longest = math.inf\n",
    "        prob.solve(solver)\n",
    "        \n",
    "        if timing:\n",
    "            print(f\"Solver:         {time.time()-last_time:6.2f}s {constraints:6,d} Constraints\")\n",
    "            last_time = time.time()\n",
    "\n",
    "        trips = roundtrips(x, n)\n",
    "        \n",
    "    trip = trips[0]\n",
    "    loop = []\n",
    "    for k in range(len(trip)-1):\n",
    "        sub = P[trip[k]][trip[k+1]]\n",
    "        loop += sub if len(loop)==0 else sub[1:]\n",
    "        \n",
    "    if timing:\n",
    "        print(f\"createLoop:     {time.time()-start_time:6.2f}s\")\n",
    "\n",
    "    return loop"
   ]
  },
  {
   "cell_type": "markdown",
   "id": "8c25d6d8-95e1-407c-9366-7d3a2930d3d4",
   "metadata": {},
   "source": [
    "## Heuristic Algorithm"
   ]
  },
  {
   "cell_type": "code",
   "execution_count": 18,
   "id": "363e6359-b30f-400b-aafb-5b75d8ae98ed",
   "metadata": {},
   "outputs": [],
   "source": [
    "def FW(M):\n",
    "    \n",
    "    V, E = M\n",
    "\n",
    "    n = len(V)\n",
    "    d = [ [ math.inf for j in range(n) ] for i in range(n) ]\n",
    "    p = [ [ None for j in range(n) ] for i in range(n) ]\n",
    "\n",
    "    for (A, B) in E:\n",
    "        a = V.index(A)\n",
    "        b = V.index(B)\n",
    "        d[a][b] = d[b][a] = dist(A, B)\n",
    "        p[a][b] = [A, B]\n",
    "        p[b][a] = [B, A]\n",
    "    \n",
    "    for i in range(n):\n",
    "        d[i][i] = 0\n",
    "        p[i][i] = [V[i]]\n",
    "    \n",
    "    for k in range(n):\n",
    "        for i in range(n):\n",
    "            for j in range(n):\n",
    "                dk = d[i][k] + d[k][j]\n",
    "                if d[i][j] > dk:\n",
    "                    d[i][j] = dk\n",
    "                    p[i][j] = p[i][k][:-1] + p[k][j]\n",
    "                    \n",
    "    return d, p"
   ]
  },
  {
   "cell_type": "code",
   "execution_count": 19,
   "id": "cffc4e76-f79d-444f-9026-ad8bd72c1c96",
   "metadata": {},
   "outputs": [],
   "source": [
    "def createLoopH(M, T, timing=False):\n",
    "    \n",
    "    def makeLoop(L):\n",
    "        loop = []\n",
    "        for i in range(len(L)-1):\n",
    "            A = L[i]\n",
    "            B = L[i+1]\n",
    "            a = V.index(A)\n",
    "            b = V.index(B)\n",
    "            sub = P[a][b]\n",
    "            loop += sub if len(loop)==0 else sub[1:]\n",
    "        return loop\n",
    "        \n",
    "    if timing:\n",
    "        start_time = time.time()\n",
    "        last_time = time.time()\n",
    "        \n",
    "    V, E = M\n",
    "    D, P = FW(M)   # note these are the distances between all vertices in M (and T)\n",
    "    \n",
    "    if timing:\n",
    "        print(f\"createTables:   {time.time()-start_time:6.2f}s\")\n",
    "        last_time = time.time()\n",
    "        \n",
    "    W = T[0]\n",
    "    customers = T[1:]\n",
    "    if len(T)==1:\n",
    "        L = T\n",
    "    elif len(T)<=3:\n",
    "        L = T + [T[0]]\n",
    "    else:\n",
    "        L = T[:3]+[T[0]]\n",
    "        T = T[3:]\n",
    "        while len(T)>0:\n",
    "            minExt = math.inf\n",
    "            minInd = None\n",
    "            selInd = None\n",
    "            for k in range(len(T)):\n",
    "                C = T[k]\n",
    "                c = V.index(C)\n",
    "                for i in range(0, len(L)-1):\n",
    "                    A = L[i]\n",
    "                    B = L[i+1]\n",
    "                    a = V.index(A)\n",
    "                    b = V.index(B)\n",
    "                    ext = D[a][c] + D[c][b] - D[a][b]\n",
    "                    if ext<minExt:\n",
    "                        minExt, minInd, selInd = ext, i+1, k\n",
    "            L = L[:minInd]+[T[selInd]]+L[minInd:]\n",
    "            T = T[:selInd]+T[selInd+1:]\n",
    "            \n",
    "    if timing:\n",
    "        print(f\"createLoopH:    {time.time()-start_time:6.2f}s\")\n",
    "\n",
    "    return makeLoop(L)"
   ]
  },
  {
   "cell_type": "markdown",
   "id": "c6ecff7c",
   "metadata": {},
   "source": [
    "# Class Recorder"
   ]
  },
  {
   "cell_type": "markdown",
   "id": "ce47fa90",
   "metadata": {},
   "source": [
    "We willl use a class Recorder as a reference point for capturing data during the simulation. There will be only one recorder. It will be created at the beginning of every simulation run. Every entity will carry a reference to the Recorder. "
   ]
  },
  {
   "cell_type": "code",
   "execution_count": 20,
   "id": "1313c612",
   "metadata": {
    "ExecuteTime": {
     "end_time": "2023-04-13T17:28:42.131899Z",
     "start_time": "2023-04-13T17:28:42.128748Z"
    }
   },
   "outputs": [],
   "source": [
    "class Recorder:\n",
    "    \n",
    "    def __init__(self, env, M, W, C, days, \n",
    "                 log=False, plot=False, timing=False):\n",
    "        self.env = env\n",
    "        self.M = M\n",
    "        self.W = W\n",
    "        self.C = C\n",
    "        self.days = days\n",
    "        self.log = log\n",
    "        self.plot = plot\n",
    "        \n",
    "        self.timing = timing\n",
    "        self.start_time = time.time()\n",
    "        self.last_time = self.start_time\n",
    "        self.cum_timer = {}\n",
    "        self.operational_cost = operational_cost\n",
    "        self.total_cost =0\n",
    "        self.minimum_pay = minimum_pay\n",
    "        self.hourly_rate = hourly_rate\n",
    "        self.total_payment = 0\n",
    "        self.current_day = 0 \n",
    "        self.daily_cost=0\n",
    "        self.daily_costs = [] \n",
    "    \n",
    "\n",
    "        Customer.REGISTER = []\n",
    "        Parcel.REGISTER = []\n",
    "\n",
    "        # create a data frame for records per working day\n",
    "        self.daily = pd.DataFrame()\n",
    "        self.daily['begin work at'] = [None]*days\n",
    "        self.daily['end work at'] = [None]*days\n",
    "        self.daily['dist'] = [None]*days\n",
    "        self.daily['left'] = [None]*days\n",
    "\n",
    "    def timer(self, s):\n",
    "        t = time.time()\n",
    "        Δt = t-self.last_time\n",
    "        if self.timing:\n",
    "            print(f\"==== t: {t-self.start_time:6.2f}s \"\n",
    "                  f\"Δt: {Δt:6.2f}s [{s:s}]\")\n",
    "        if s in self.cum_timer:\n",
    "            self.cum_timer[s] += Δt\n",
    "        else:\n",
    "            self.cum_timer[s] = Δt\n",
    "        self.last_time = t\n",
    "\n",
    "    def reportTimer(self):\n",
    "        print(f\"==== t: {self.total_time:6.2f}s Total\")\n",
    "        for k in sorted(self.cum_timer, key=lambda x: self.cum_timer[x], reverse=True):\n",
    "            print(f\"==== ΣΔt: {self.cum_timer[k]:6.2f}s \"+ k)\n",
    "\n",
    "    def trace(self, event):\n",
    "        if self.log:\n",
    "            print(timestamp(self.env.now), event)\n",
    "\n",
    "    def recordDriverBeginsWork(self):\n",
    "        self.trace(\"Driver arrives for work\")\n",
    "        self.daily.at[day(self.env.now), 'begin work at'] = int(round(self.env.now))\n",
    "        \n",
    "    def recordDriverEndsWork(self):\n",
    "        self.trace(\"Driver goes home\")\n",
    "        self.daily.at[day(self.env.now), 'end work at'] = int(round(self.env.now))\n",
    "\n",
    "        \n",
    "    def calculateDailyPayment(self):\n",
    "        # Calculate the driver's payment for each working day\n",
    "        working_time = self.daily['working time']  \n",
    "        daily_payment = np.maximum(working_time * hourly_rate, minimum_pay)  # Driver is paid 30€/h with a minimum of 60€ per day\n",
    "        self.daily['payment'] = daily_payment\n",
    "        # Store daily payment as an attribute\n",
    "        self.daily_payment = daily_payment\n",
    "        \n",
    "        # Update total payment for the driver\n",
    "        self.total_payment = daily_payment.sum()\n",
    "        \n",
    "        # Print daily and total payment\n",
    "        # Print daily payment for each day\n",
    "        # for i in range(len(self.daily)):\n",
    "        #     print(f\"Daily payment for Day {i + 1}: {self.daily.at[i, 'payment']:.2f}€\")\n",
    "        print(f\"Total payment for driver: {self.total_payment:.2f}€\")\n",
    "        \n",
    "    def recordTourLength(self, length):\n",
    "        self.daily.at[day(self.env.now), 'dist'] = int(length)\n",
    "\n",
    "    def calculateOperationalCost(self):\n",
    "        # Calculate the operational cost for each working day based on tour length\n",
    "        self.daily['operational cost'] = operational_cost * self.daily['dist']\n",
    "\n",
    "        # for i in range(len(self.daily)):\n",
    "        #     print(f\"Operational cost for Day {i + 1}: {self.daily.at[i, 'operational cost']:.2f}€\")\n",
    "         # Calculate total cost for each day\n",
    "        self.daily['total cost'] = self.daily['operational cost'] + self.daily['payment']\n",
    "\n",
    "\n",
    "        self.total_cost = self.daily['operational cost'].sum()\n",
    "\n",
    "        print(f\"Total operational cost: {self.total_cost:.2f}€\")\n",
    "\n",
    "        self.daily_cost= self.total_cost + self.total_payment\n",
    "        print(f\"Total cost: {self.daily_cost:.2f}€\")\n",
    "\n",
    "    def calculateAverageCostPerDay(self):\n",
    "        average_cost_per_day = self.daily_cost / len(self.daily)\n",
    "        print(f\"Average cost per day: {average_cost_per_day:.2f}€\")\n",
    "        return average_cost_per_day\n",
    "        \n",
    "\n",
    "    def recordParcelsLeftOver(self, numberOfParcels):\n",
    "        self.trace(f\"{numberOfParcels:d} left over for next day\")\n",
    "        self.daily.at[day(self.env.now), 'left'] = numberOfParcels\n",
    "\n",
    "    def finish(self):\n",
    "        # simulation is finished for good\n",
    "        # by removing the simulation environment we can\n",
    "        # pickle recorder\n",
    "        self.env = None\n",
    "        self.total_time = time.time()-self.start_time\n",
    "        self.daily['working time'] = (self.daily['end work at']-self.daily['begin work at'])//60\n",
    "        self.calculateDailyPayment()\n",
    "        self.calculateOperationalCost()\n",
    "        self.calculateAverageCostPerDay()\n",
    "        \n",
    "    def __stats__(self, column):\n",
    "        d = self.daily[column].copy()\n",
    "        return d.mean(), d.median(), d.std()\n",
    "        \n",
    "    def statsWorkingTime(self):\n",
    "        return self.__stats__('working time')\n",
    "        \n",
    "    def histWorkingTime(self):\n",
    "        histplot(self.daily['working time'],\n",
    "                 xlabel='Working Time [min]',\n",
    "                 title='Daily Working Time')\n",
    "        \n",
    "    def plotWorkingTime(self):\n",
    "        dailyPlot(self.daily['working time'],\n",
    "                  ylabel='Working Time [min]',\n",
    "                  title='Daily Working Time')\n",
    "\n",
    "    def statsTourLength(self):\n",
    "        return self.__stats__('dist')\n",
    "        \n",
    "    def histTourLength(self):\n",
    "        histplot(self.daily['dist'],\n",
    "                 xlabel='Tour Length [m]',\n",
    "                 title='Daily Tour Length')\n",
    "            \n",
    "    def plotTourLength(self):\n",
    "        dailyPlot(self.daily['dist'],\n",
    "                  ylabel='Tour Length [m]',\n",
    "                  title='Daily Tour Length')\n",
    "\n",
    "    def statsLeftOver(self):\n",
    "        return self.__stats__('left')\n",
    "        \n",
    "    def histLeftOver(self):\n",
    "        histplot(self.daily['left'],\n",
    "                 xlabel='Left-Over Parcels',\n",
    "                 title='Daily Left-Over Parcels')\n",
    "                \n",
    "    def plotLeftOver(self):\n",
    "        dailyPlot(self.daily['left'],\n",
    "                  ylabel='Number of Parcels',\n",
    "                  title='Daily Left-Over Parcels')"
   ]
  },
  {
   "cell_type": "markdown",
   "id": "4a66f185",
   "metadata": {
    "heading_collapsed": true
   },
   "source": [
    "# Class Parcel"
   ]
  },
  {
   "cell_type": "markdown",
   "id": "88ec993d",
   "metadata": {
    "hidden": true
   },
   "source": [
    "<img src='img/EventGraph Parcel.png' width=500/>"
   ]
  },
  {
   "cell_type": "markdown",
   "id": "feed7758",
   "metadata": {
    "hidden": true
   },
   "source": [
    "Parcels follow through a sequence of states:\n",
    "- processing\n",
    "- in transit (from manufacture to distribution centre)\n",
    "- arrived in distribution centre\n",
    "- ready for delivery \n",
    "- out for delivery\n",
    "- customer not present\n",
    "- returned to distribution centre\n",
    "- delivered"
   ]
  },
  {
   "cell_type": "code",
   "execution_count": 21,
   "id": "de2cc49a",
   "metadata": {
    "ExecuteTime": {
     "end_time": "2023-04-13T17:28:42.137592Z",
     "start_time": "2023-04-13T17:28:42.132953Z"
    },
    "hidden": true
   },
   "outputs": [],
   "source": [
    "class Parcel:\n",
    "    \n",
    "    REGISTER = []\n",
    "    \n",
    "    def __init__(self, rec, i, cust, custIndex):\n",
    "        self.rec = rec\n",
    "        self.i = i  # row index in data frames of input data\n",
    "        self.dest = cust.location\n",
    "        self.custIndex = custIndex\n",
    "        self.status = [ 'processing' ] # status record and\n",
    "        self.timing = [ self.rec.env.now ]      # timing\n",
    "        assert(len(Parcel.REGISTER)==i)\n",
    "        Parcel.REGISTER += [ self ] \n",
    "    \n",
    "    # factory method ensures that there is only\n",
    "    # one Parcel per location\n",
    "    def getParcel(rec, i, location, custIndex):\n",
    "        for p in Parcel.REGISTER:\n",
    "            if p.i == i:\n",
    "                return p\n",
    "        return Parcel(rec, i, location, custIndex)\n",
    "\n",
    "    \n",
    "    def __str__(self):\n",
    "        return f\"Parcel: {self.i:3d} ({self.custIndex:3d})\"\n",
    "\n",
    "    def index(self):\n",
    "        return self.i\n",
    "    \n",
    "    def destination(self):\n",
    "        return self.dest\n",
    "    \n",
    "    def __reg(self, state):\n",
    "        self.status += [ state ]\n",
    "        self.timing += [ self.rec.env.now ]\n",
    "        self.rec.trace(str(self)+\" \"+state)\n",
    "        \n",
    "    def arrivedAtDeliveryCentre(self):\n",
    "        self.__reg('arr at delivery centre')\n",
    "        \n",
    "    def outForDelivery(self): \n",
    "        self.__reg('out for delivery')\n",
    "        \n",
    "    def returnFromDelivery(self):\n",
    "        self.__reg('return from delivery')\n",
    "    "
   ]
  },
  {
   "cell_type": "markdown",
   "id": "7485feda",
   "metadata": {},
   "source": [
    "# Class Customer"
   ]
  },
  {
   "cell_type": "markdown",
   "id": "36c4903f",
   "metadata": {},
   "source": [
    "<img src='img/EventGraph Customer.png' width=500/>"
   ]
  },
  {
   "cell_type": "code",
   "execution_count": 22,
   "id": "81e2076b",
   "metadata": {
    "ExecuteTime": {
     "end_time": "2023-04-13T17:28:42.145420Z",
     "start_time": "2023-04-13T17:28:42.139194Z"
    }
   },
   "outputs": [],
   "source": [
    "class Customer:\n",
    "    \n",
    "    REGISTER = []\n",
    "\n",
    "    def __init__(self, rec, location):\n",
    "        self.rec = rec\n",
    "        self.location = location\n",
    "        self.i = len(Customer.REGISTER)\n",
    "        Customer.REGISTER += [ self ]\n",
    "        self.atHome = True\n",
    "        self.answersDoor = False\n",
    "        self.parcelsReceived = []\n",
    "        rec.env.process(self.process())\n",
    "        \n",
    "    def __str__(self):\n",
    "        return f\"Customer: {self.i:2d} {str(self.location):s}\"\n",
    "    \n",
    "    # factory method ensures that there is only\n",
    "    # one customer per location\n",
    "    def getCustomer(rec, location):\n",
    "        for c in Customer.REGISTER:\n",
    "            if c.location == location:\n",
    "                return c\n",
    "        return Customer(rec, location)\n",
    "    \n",
    "    def leaveHouse(self):\n",
    "        assert(self.atHome and not self.answersDoor)\n",
    "        # self.rec.trace(str(self)+\" leaves house\")\n",
    "        self.atHome = False\n",
    "     \n",
    "    def returnHome(self):\n",
    "        assert(not self.atHome)\n",
    "        # self.rec.trace(str(self)+\" returns home\")\n",
    "        self.atHome = True\n",
    "        \n",
    "    def answerDoor(self):\n",
    "        if self.atHome:\n",
    "            yield self.rec.env.timeout(random.expovariate(1/AVERAGE_TIME_ANSWER_DOOR))\n",
    "            self.rec.trace(str(self)+\" answers door\")\n",
    "            self.answersDoor = True\n",
    "            # Simulate additional handover time for the parcel\n",
    "            handover_time = random.expovariate(1 / mean_handover_time_per_parcel)  # Mean time of 10 seconds\n",
    "            yield self.rec.env.timeout(handover_time)\n",
    "            self.rec.trace(str(self)+\" handover\")\n",
    "        else:\n",
    "            yield self.rec.env.timeout(WAIT_TIME_IF_CUSTOMER_DOESNT_ANSWER_DOOR)\n",
    "            self.rec(str(self)+\" not at home\")\n",
    "            \n",
    "    def acceptParcel(self, parcel):\n",
    "        assert(self.answersDoor)\n",
    "        self.parcelsReceived += [parcel]\n",
    "        self.rec.trace(str(self)+\" accepts \"+str(parcel))\n",
    "        \n",
    "    def signOff(self):\n",
    "        assert(self.answersDoor)\n",
    "        self.rec.trace(str(self)+\" signs off\")\n",
    "        self.answersDoor = False\n",
    "        \n",
    "    def process(self):\n",
    "        yield self.rec.env.timeout(nextHour(self.rec.env, 8))\n",
    "        while day(self.rec.env.now)<self.rec.days:\n",
    "            # in a refinement we may use random times\n",
    "            self.leaveHouse()\n",
    "            yield self.rec.env.timeout(nextHour(self.rec.env, 18))\n",
    "            self.returnHome()\n",
    "            yield self.rec.env.timeout(nextHour(self.rec.env, 8))"
   ]
  },
  {
   "cell_type": "markdown",
   "id": "5094ac7a",
   "metadata": {},
   "source": [
    "# Class Driver"
   ]
  },
  {
   "cell_type": "markdown",
   "id": "ad9cf5d9",
   "metadata": {},
   "source": [
    "<img src='img/EventGraph Driver.png' width=500/>"
   ]
  },
  {
   "cell_type": "code",
   "execution_count": 23,
   "id": "c1f9cba3",
   "metadata": {
    "ExecuteTime": {
     "end_time": "2023-04-13T17:28:42.154522Z",
     "start_time": "2023-04-13T17:28:42.146471Z"
    }
   },
   "outputs": [],
   "source": [
    "import random\n",
    "\n",
    "class Driver:\n",
    "    \n",
    "    def __init__(self, rec, DC):\n",
    "        self.rec = rec\n",
    "        self.DC = DC\n",
    "        self.location = None\n",
    "        self.parcels = None\n",
    "        self.tour = None\n",
    "        self.rec.env.process(self.process())\n",
    "        \n",
    "    # activity\n",
    "    def __drive(self, target):\n",
    "        assert(self.tour[0] == self.location)\n",
    "        while self.location != target:\n",
    "            d = dist(self.location, self.tour[1])\n",
    "            yield self.rec.env.timeout(d / AVERAGE_SPEED)\n",
    "            self.location = self.tour[1]\n",
    "            self.tour = self.tour[1:]\n",
    "        assert(self.tour[0] == self.location == target)\n",
    "    \n",
    "    def arriveForWork(self):\n",
    "        self.location = self.DC.W\n",
    "        self.parcels = []\n",
    "        self.returns = []\n",
    "        self.tour = [self.DC.W]\n",
    "        self.rec.recordDriverBeginsWork()\n",
    "        \n",
    "    def leaveForDelivery(self, tour, parcels):\n",
    "        self.tour, self.parcels = tour, parcels\n",
    "        self.rec.trace(f\"Driver leaves for delivery \" \\\n",
    "                       f\"of {len(parcels):d} parcels\")\n",
    "        \n",
    "    def process(self):\n",
    "        yield self.rec.env.timeout(nextHour(self.rec.env, 18))\n",
    "        while day(self.rec.env.now) < self.rec.days:\n",
    "            self.arriveForWork()\n",
    "            tour, parcels = self.DC.sendForDelivery()\n",
    "            yield self.rec.env.timeout(PREP_TIME_PER_PARCEL * len(parcels))\n",
    "            self.rec.recordTourLength(pathLength(tour))\n",
    "            self.leaveForDelivery(tour, parcels)        \n",
    "            while len(self.parcels) > 0:\n",
    "                # drive to customer\n",
    "                custLocation = self.parcels[0].dest\n",
    "                cust = Customer.getCustomer(self.rec, custLocation)\n",
    "                self.rec.trace(\"Driver drives to \" + str(cust))\n",
    "                yield from self.__drive(custLocation)\n",
    "                self.rec.trace(\"Driver arrived at \" + str(cust))\n",
    "                # call at customer\n",
    "                yield from cust.answerDoor()\n",
    "                \n",
    "                if cust.answersDoor:\n",
    "                    while len(self.parcels) > 0 and \\\n",
    "                            custLocation == self.parcels[0].dest:\n",
    "                        cust.acceptParcel(self.parcels[0])\n",
    "                        yield self.rec.env.timeout(random.expovariate(1/10))\n",
    "                        self.parcels = self.parcels[1:]\n",
    "                    cust.signOff()\n",
    "                    yield self.rec.env.timeout(random.expovariate(1/10))\n",
    "                else:\n",
    "                    while len(self.parcels) > 0 and \\\n",
    "                            custLocation == self.parcels[0].dest:\n",
    "                        self.returns.append(self.parcels[0])  # Use append instead of +=\n",
    "                        self.parcels = self.parcels[1:]\n",
    "\n",
    "            # return to delivery centre\n",
    "            self.rec.trace(\"Driver returns to delivery centre\")\n",
    "            yield from self.__drive(self.DC.W)\n",
    "            self.rec.trace(\"Driver arrived at delivery centre\")\n",
    "            \n",
    "            for parcel in self.returns:\n",
    "                self.DC.returnFromDelivery(parcel)\n",
    "                yield self.rec.env.timeout(RETURN_TIME_PER_PARCEL)\n",
    "            yield self.rec.env.timeout(600)\n",
    "\n",
    "            self.rec.recordParcelsLeftOver(len(self.DC.parcels)+\n",
    "                                           len(self.DC.leftOver))\n",
    "\n",
    "                    \n",
    "            self.dayEndProcedure()\n",
    "            self.rec.recordDriverEndsWork()\n",
    "            \n",
    "            yield self.rec.env.timeout(nextHour(self.rec.env, 18))\n",
    "\n",
    "    def dayEndProcedure(self):\n",
    "            # Report and set up the cargo-bike for charging\n",
    "            self.rec.trace(\"Day-end procedure: Reporting and setting up the cargo-bike for charging\")\n",
    "            yield self.rec.env.timeout(cargo_bike_charging)  # 10 minutes for the day-end procedure\n",
    "            # self.rec.calculateDailyCosts()\n"
   ]
  },
  {
   "cell_type": "markdown",
   "id": "1040e477",
   "metadata": {},
   "source": [
    "# Class Delivery Centre"
   ]
  },
  {
   "cell_type": "markdown",
   "id": "1388e18b",
   "metadata": {},
   "source": [
    "<img src=\"img/EventGraph Delivery Centre.png\" width=300/>"
   ]
  },
  {
   "cell_type": "code",
   "execution_count": 24,
   "id": "58d2e87e",
   "metadata": {
    "ExecuteTime": {
     "end_time": "2023-04-13T17:28:42.161332Z",
     "start_time": "2023-04-13T17:28:42.155561Z"
    }
   },
   "outputs": [],
   "source": [
    "class DeliveryCentre:\n",
    "    \n",
    "    def __init__(self, rec, M, W):\n",
    "        self.rec = rec\n",
    "        self.M = M\n",
    "        self.W = W\n",
    "        self.limit = max_range\n",
    "        \n",
    "        self.leftOver = []    # list of parcels\n",
    "        self.parcels = []     # list of parcels scheduled for delivery\n",
    "        self.dest = []        # list of unique customer destinations\n",
    "        self.tour = None      # tour planned for delivery\n",
    "    \n",
    "    def __accept(self, parcel):\n",
    "        custLoc = parcel.dest\n",
    "        if custLoc not in self.dest:\n",
    "            MT = addTargets(self.M, self.dest + [custLoc])\n",
    "            self.rec.timer(\"addTarget\")\n",
    "            SH = createLoopH(MT, [self.W] + self.dest + [custLoc], \n",
    "                             timing=self.rec.timing)\n",
    "            self.rec.timer(\"createLoopH\")\n",
    "            if self.tour is None and pathLength(SH)<self.limit:\n",
    "                self.parcels.append(parcel)\n",
    "                self.dest += [custLoc]\n",
    "            else: \n",
    "                S = createLoop(MT, [self.W] + self.dest + [custLoc], \n",
    "                               timing=self.rec.timing)\n",
    "                self.rec.timer(\"createLoop\")\n",
    "                if pathLength(S)<self.limit:\n",
    "                    self.parcels.append(parcel)\n",
    "                    self.dest += [custLoc]\n",
    "                    self.tour = S\n",
    "                else:\n",
    "                    self.leftOver.append(parcel)\n",
    "        else:\n",
    "            self.parcels.append(parcel)\n",
    "        \n",
    "    def acceptParcel(self, parcel):\n",
    "        parcel.arrivedAtDeliveryCentre()\n",
    "        self.__accept(parcel)\n",
    "            \n",
    "    def sendForDelivery(self):\n",
    "        parcels = []\n",
    "        if self.tour is None:\n",
    "            MT = addTargets(self.M, self.dest)\n",
    "            self.rec.timer(\"addTarget\")\n",
    "            self.tour = createLoop(MT, [self.W] + self.dest, \n",
    "                                   timing=self.rec.timing)\n",
    "            self.rec.timer(\"createLoop\")\n",
    "        tour = self.tour\n",
    "        addresses = self.dest\n",
    "        \n",
    "        # pick parcels in sequence to be delivered\n",
    "        for i in range(1, len(tour)-1):\n",
    "            dest = tour[i]\n",
    "            for p in self.parcels:\n",
    "                if p.dest == dest and p not in parcels:\n",
    "                    parcels += [p]\n",
    "                    p.outForDelivery()\n",
    "         \n",
    "        # arrange the left overs\n",
    "        L = self.leftOver\n",
    "        self.tour = None\n",
    "        self.parcels = []\n",
    "        self.leftOver = []\n",
    "        self.dest = []\n",
    "        for p in L:\n",
    "            self.__accept(p)\n",
    "        \n",
    "        if self.rec.plot:\n",
    "            plotMap(self.rec.M, T=addresses, P=tour, W=tour[0], \n",
    "                    text=f\"Day {day(self.rec.env.now):2d}, {pathLength(tour):,d}m\")\n",
    "\n",
    "        return tour, parcels\n",
    "                 \n",
    "    def returnFromDelivery(self, parcel):\n",
    "        parcel.returnFromDelivery()\n",
    "        self.__accept(parcel)\n",
    "\n",
    "    def getInventory(self):\n",
    "        return len(self.parcels)+len(self.leftOver)"
   ]
  },
  {
   "cell_type": "markdown",
   "id": "f8dc172b",
   "metadata": {},
   "source": [
    "# Simulation"
   ]
  },
  {
   "cell_type": "markdown",
   "id": "24d87bfc",
   "metadata": {},
   "source": [
    "## Parameters from Specification"
   ]
  },
  {
   "cell_type": "markdown",
   "id": "68c84750",
   "metadata": {},
   "source": [
    "The time required for driving is based on the distance between way points at an average speed of 15km/h."
   ]
  },
  {
   "cell_type": "code",
   "execution_count": 25,
   "id": "914c1813",
   "metadata": {
    "ExecuteTime": {
     "end_time": "2023-04-13T17:28:42.165878Z",
     "start_time": "2023-04-13T17:28:42.162761Z"
    }
   },
   "outputs": [],
   "source": [
    "AVERAGE_SPEED = 15/3.6"
   ]
  },
  {
   "cell_type": "markdown",
   "id": "be2c23f9",
   "metadata": {},
   "source": [
    "The **cumulative preparation time** (route planning and \n",
    "sorting of the parcels in the delivery order and \n",
    "packing the cargo-bike) is assumed to be 50 sec per \n",
    "parcel to be delivered."
   ]
  },
  {
   "cell_type": "code",
   "execution_count": 26,
   "id": "bddf98a2",
   "metadata": {
    "ExecuteTime": {
     "end_time": "2023-04-13T17:28:42.169190Z",
     "start_time": "2023-04-13T17:28:42.167100Z"
    }
   },
   "outputs": [],
   "source": [
    "PREP_TIME_PER_PARCEL = 50"
   ]
  },
  {
   "cell_type": "markdown",
   "id": "4a9e228c",
   "metadata": {},
   "source": [
    "**Additional assumption:** The time to **process returned parcels** in the delivery centre is 30 sec per parce. "
   ]
  },
  {
   "cell_type": "code",
   "execution_count": 27,
   "id": "8dac0569",
   "metadata": {
    "ExecuteTime": {
     "end_time": "2023-04-13T17:28:42.173347Z",
     "start_time": "2023-04-13T17:28:42.170228Z"
    }
   },
   "outputs": [],
   "source": [
    "RETURN_TIME_PER_PARCEL = 30"
   ]
  },
  {
   "cell_type": "markdown",
   "id": "1eee375c",
   "metadata": {},
   "source": [
    "The average time to answer the door."
   ]
  },
  {
   "cell_type": "code",
   "execution_count": 28,
   "id": "b7433892",
   "metadata": {
    "ExecuteTime": {
     "end_time": "2023-04-13T17:28:42.181666Z",
     "start_time": "2023-04-13T17:28:42.174612Z"
    }
   },
   "outputs": [],
   "source": [
    "AVERAGE_TIME_ANSWER_DOOR = 40"
   ]
  },
  {
   "cell_type": "code",
   "execution_count": 29,
   "id": "3486f578",
   "metadata": {
    "ExecuteTime": {
     "end_time": "2023-04-13T17:28:42.185290Z",
     "start_time": "2023-04-13T17:28:42.183011Z"
    }
   },
   "outputs": [],
   "source": [
    "WAIT_TIME_IF_CUSTOMER_DOESNT_ANSWER_DOOR = 60"
   ]
  },
  {
   "cell_type": "code",
   "execution_count": 30,
   "id": "f091f2a7-d1e9-4d76-a9b1-2ae41aab372f",
   "metadata": {},
   "outputs": [],
   "source": [
    "minimum_pay = 60"
   ]
  },
  {
   "cell_type": "code",
   "execution_count": 31,
   "id": "2fda2fdf-2ea5-4ca3-ab9f-415925c06bee",
   "metadata": {},
   "outputs": [],
   "source": [
    "hourly_rate = 30/60"
   ]
  },
  {
   "cell_type": "code",
   "execution_count": 32,
   "id": "79eccb65-8757-40a9-b428-87e48a87198a",
   "metadata": {},
   "outputs": [],
   "source": [
    "operational_cost = 8*0.01/1000"
   ]
  },
  {
   "cell_type": "code",
   "execution_count": 33,
   "id": "66d9bd01-967a-4b22-bbe4-626f6590b0c9",
   "metadata": {},
   "outputs": [],
   "source": [
    "max_range = 40000"
   ]
  },
  {
   "cell_type": "code",
   "execution_count": 34,
   "id": "e57c0dd0-5735-4bb7-a83b-7ab99e5949f9",
   "metadata": {},
   "outputs": [],
   "source": [
    "mean_handover_time_per_parcel = 10  "
   ]
  },
  {
   "cell_type": "code",
   "execution_count": 35,
   "id": "e3e07f1f-136b-4419-842c-448c837e8fcd",
   "metadata": {},
   "outputs": [],
   "source": [
    "minimum_pay = 60"
   ]
  },
  {
   "cell_type": "code",
   "execution_count": 36,
   "id": "ae28ac10-21ef-4959-8716-789148a5053f",
   "metadata": {},
   "outputs": [],
   "source": [
    "cargo_bike_charging = 10*60"
   ]
  },
  {
   "cell_type": "markdown",
   "id": "3b59ca97",
   "metadata": {},
   "source": [
    "## Generate Input Data"
   ]
  },
  {
   "cell_type": "code",
   "execution_count": 37,
   "id": "43da2e03-01ab-4ef7-a526-e251d6fdc0cb",
   "metadata": {},
   "outputs": [],
   "source": [
    "def generateDeliveryData(p, C, days, seed=0):\n",
    "    ## p is the average number of parcels per day per customer\n",
    "    ## C is the number of customers to be served\n",
    "    ## days is the number of days for which data are to be generated.\n",
    "    np.random.seed(seed)\n",
    "    R = np.random.poisson(lam=len(C)*p, size=days)\n",
    "    D = [ sorted(list(np.random.choice(range(len(C)), size=i))) for i in R ]\n",
    "    return D"
   ]
  },
  {
   "cell_type": "code",
   "execution_count": 38,
   "id": "986eee44",
   "metadata": {
    "ExecuteTime": {
     "end_time": "2023-04-13T17:28:42.191335Z",
     "start_time": "2023-04-13T17:28:42.186382Z"
    }
   },
   "outputs": [],
   "source": [
    "def generateInputData(D, log=False):\n",
    "\n",
    "    R = [ len(d) for d in D ]\n",
    "    N = sum(R)\n",
    "    \n",
    "    DAY_LENGTH = 24*3600    # measured in minutes\n",
    "    DAY_START = 8*3600      # first delivery in the morning\n",
    "    DAY_END = 17*3600     # last delivery during day time\n",
    "\n",
    "    x = pd.DataFrame()\n",
    "\n",
    "    x['iarr'] = [None]*N\n",
    "    x['time'] = [None]*N\n",
    "    x['day'] = [None]*N\n",
    "    x['dest'] = [None]*N\n",
    "\n",
    "    current_day = 0\n",
    "    last_time = 0\n",
    "    i = 0\n",
    "\n",
    "    for d in D: # for each day\n",
    "\n",
    "        if log:\n",
    "            print(\"generating for day: \",current_day, D[current_day])\n",
    "            \n",
    "        time = current_day*DAY_LENGTH + DAY_START \n",
    "\n",
    "        for c in d: # for each customer that should get a \n",
    "\n",
    "            IARR = (DAY_END-DAY_START-2*3600) / len(d)  # estimated average IAT for the current day\n",
    "\n",
    "            iat = random.expovariate(1.0/IARR)\n",
    "            new_time = time + iat\n",
    "\n",
    "            x.at[i, 'iarr'] = round(new_time - last_time,1)\n",
    "            x.at[i, 'time'] = round(new_time - current_day*DAY_LENGTH , 1)\n",
    "            x.at[i, 'day'] = current_day\n",
    "            x.at[i, 'dest'] = c\n",
    "            \n",
    "            i += 1\n",
    "            last_time = time = new_time\n",
    "    \n",
    "        current_day += 1\n",
    "    \n",
    "    return x"
   ]
  },
  {
   "cell_type": "markdown",
   "id": "dcf336c9",
   "metadata": {},
   "source": [
    "## Simulation Routine"
   ]
  },
  {
   "cell_type": "code",
   "execution_count": 39,
   "id": "18a0a837",
   "metadata": {
    "ExecuteTime": {
     "end_time": "2023-04-13T17:28:42.201676Z",
     "start_time": "2023-04-13T17:28:42.197699Z"
    }
   },
   "outputs": [],
   "source": [
    "def simulation(M, W, C, p=0.15, days=10, seed=0, log=False, plot=False, timing=False):\n",
    "        \n",
    "    random.seed(seed)\n",
    "    D = generateDeliveryData(p, C, days, seed)\n",
    "    X = generateInputData(D, log=log)\n",
    "    \n",
    "    env = simpy.Environment()\n",
    "    rec = Recorder(env, M, W, C, days, log=log, plot=plot, timing=timing)\n",
    "\n",
    "    print(f\"Simulating delivery of {len(X):d} parcels \"\n",
    "          f\"over {len(D):d} days to {len(C):d} customers\")\n",
    "\n",
    "    for c in C:\n",
    "        Customer.getCustomer(rec, c)           \n",
    "    DC = DeliveryCentre(rec, M, W)\n",
    "    D = Driver(rec, DC)\n",
    "\n",
    "    def generatorProcess(env):\n",
    "        # generate the parcels based on input data x\n",
    "        for i in range(len(X)):\n",
    "            yield env.timeout(X.at[i, 'iarr'])\n",
    "            custIndex = X.at[i, 'dest']\n",
    "            custLoc = C[custIndex]\n",
    "            cust = Customer.getCustomer(rec, custLoc)\n",
    "            p = Parcel.getParcel(rec, i, cust, custIndex)\n",
    "            DC.acceptParcel(p)\n",
    "            D.dayEndProcedure()\n",
    "\n",
    "    env.process(generatorProcess(env))\n",
    "    env.run()\n",
    "\n",
    "    rec.finish()\n",
    "\n",
    "    if log:\n",
    "        print(f\"Delivery Centre Inventory: {DC.getInventory():d} parcels\")\n",
    "\n",
    "    return rec"
   ]
  },
  {
   "cell_type": "markdown",
   "id": "7da0eaf6",
   "metadata": {},
   "source": [
    "## Small Simulation Run"
   ]
  },
  {
   "cell_type": "code",
   "execution_count": 40,
   "id": "f6140416",
   "metadata": {
    "ExecuteTime": {
     "end_time": "2023-04-13T17:28:42.206132Z",
     "start_time": "2023-04-13T17:28:42.203167Z"
    }
   },
   "outputs": [],
   "source": [
    "import pickle\n",
    "with open('BolormaaData.pickled', 'rb') as f:\n",
    "    M, C = pickle.load(f)"
   ]
  },
  {
   "cell_type": "code",
   "execution_count": 41,
   "id": "a7daca1f",
   "metadata": {
    "ExecuteTime": {
     "end_time": "2023-04-13T17:28:43.230448Z",
     "start_time": "2023-04-13T17:28:42.207356Z"
    }
   },
   "outputs": [
    {
     "name": "stdout",
     "output_type": "stream",
     "text": [
      "Simulating delivery of 90 parcels over 4 days to 150 customers\n",
      "Total payment for driver: 366.00€\n",
      "Total operational cost: 10.43€\n",
      "Total cost: 376.43€\n",
      "Average cost per day: 94.11€\n"
     ]
    }
   ],
   "source": [
    "random.seed(6725)\n",
    "W = generateWarehouseLocation(M)\n",
    "rec = simulation(M, W, C, p=0.15, days=4)\n",
    "with open('newBolormaa.pickled', 'wb') as f:\n",
    "            pickle.dump(rec, f)\n",
    "    "
   ]
  },
  {
   "cell_type": "code",
   "execution_count": 42,
   "id": "b40ff0bc-484f-4832-a0e0-29c7ae5239a2",
   "metadata": {},
   "outputs": [
    {
     "data": {
      "text/plain": [
       "(6240, 6800)"
      ]
     },
     "execution_count": 42,
     "metadata": {},
     "output_type": "execute_result"
    }
   ],
   "source": [
    "W"
   ]
  },
  {
   "cell_type": "code",
   "execution_count": 43,
   "id": "28ebb64f-aa00-4f70-bb70-5b96e27378f6",
   "metadata": {},
   "outputs": [],
   "source": [
    "with open('newBolormaa.pickled', 'rb') as f:\n",
    "    rec1 = pickle.load(f)"
   ]
  },
  {
   "cell_type": "code",
   "execution_count": 44,
   "id": "8a0a95f6-9167-478a-adf0-f0cabc23b13f",
   "metadata": {},
   "outputs": [
    {
     "data": {
      "image/png": "[encoded data removed]",
      "text/plain": [
       "<Figure size 400x250 with 1 Axes>"
      ]
     },
     "metadata": {},
     "output_type": "display_data"
    },
    {
     "data": {
      "image/png": "[encoded data removed]",
      "text/plain": [
       "<Figure size 600x200 with 1 Axes>"
      ]
     },
     "metadata": {},
     "output_type": "display_data"
    },
    {
     "data": {
      "text/plain": [
       "(183.0, 176.0, 17.511900715418264)"
      ]
     },
     "execution_count": 44,
     "metadata": {},
     "output_type": "execute_result"
    }
   ],
   "source": [
    "rec1.histWorkingTime()\n",
    "rec1.plotWorkingTime()\n",
    "rec1.statsWorkingTime()"
   ]
  },
  {
   "cell_type": "code",
   "execution_count": 45,
   "id": "03cb9a4e-3a7a-4bce-b14e-4e4d64f6d94c",
   "metadata": {},
   "outputs": [
    {
     "data": {
      "image/png": "[encoded data removed]",
      "text/plain": [
       "<Figure size 400x250 with 1 Axes>"
      ]
     },
     "metadata": {},
     "output_type": "display_data"
    },
    {
     "data": {
      "image/png": "[encoded data removed]",
      "text/plain": [
       "<Figure size 600x200 with 1 Axes>"
      ]
     },
     "metadata": {},
     "output_type": "display_data"
    },
    {
     "data": {
      "text/plain": [
       "(32590.25, 30860.0, 4226.208495803301)"
      ]
     },
     "execution_count": 45,
     "metadata": {},
     "output_type": "execute_result"
    }
   ],
   "source": [
    "rec1.histTourLength()\n",
    "rec1.plotTourLength()\n",
    "rec1.statsTourLength()"
   ]
  },
  {
   "cell_type": "code",
   "execution_count": 46,
   "id": "3bf903e2-77cd-4cdd-821a-d53c31dfb756",
   "metadata": {},
   "outputs": [
    {
     "name": "stderr",
     "output_type": "stream",
     "text": [
      "C:\\Users\\35387\\AppData\\Local\\Programs\\Python\\Python311\\Lib\\site-packages\\scipy\\stats\\_distn_infrastructure.py:1983: RuntimeWarning: invalid value encountered in divide\n",
      "  x = np.asarray((x - loc)/scale, dtype=dtyp)\n",
      "posx and posy should be finite values\n",
      "posx and posy should be finite values\n"
     ]
    },
    {
     "data": {
      "image/png": "[encoded data removed]",
      "text/plain": [
       "<Figure size 400x250 with 1 Axes>"
      ]
     },
     "metadata": {},
     "output_type": "display_data"
    },
    {
     "name": "stderr",
     "output_type": "stream",
     "text": [
      "C:\\Users\\35387\\AppData\\Local\\Temp\\ipykernel_18468\\678394850.py:16: UserWarning: Attempting to set identical low and high ylims makes transformation singular; automatically expanding.\n",
      "  ax.set_ylim(ymin, ymax)\n"
     ]
    },
    {
     "data": {
      "image/png": "[encoded data removed]",
      "text/plain": [
       "<Figure size 600x200 with 1 Axes>"
      ]
     },
     "metadata": {},
     "output_type": "display_data"
    },
    {
     "data": {
      "text/plain": [
       "(0.0, 0.0, 0.0)"
      ]
     },
     "execution_count": 46,
     "metadata": {},
     "output_type": "execute_result"
    }
   ],
   "source": [
    "rec1.histLeftOver()\n",
    "rec1.plotLeftOver()\n",
    "rec1.statsLeftOver()"
   ]
  },
  {
   "cell_type": "code",
   "execution_count": 47,
   "id": "605dc835",
   "metadata": {},
   "outputs": [
    {
     "name": "stdout",
     "output_type": "stream",
     "text": [
      "==== t:  37.54s Total\n",
      "==== ΣΔt:  30.14s createLoopH\n",
      "==== ΣΔt:   6.89s createLoop\n",
      "==== ΣΔt:   0.50s addTarget\n"
     ]
    }
   ],
   "source": [
    "rec1.reportTimer()"
   ]
  },
  {
   "cell_type": "markdown",
   "id": "48f175a1-e57b-4ddb-8d9a-8bf253f87aa0",
   "metadata": {},
   "source": [
    "## One good and one bad warehouse locations to see which day is significant\n"
   ]
  },
  {
   "cell_type": "code",
   "execution_count": 48,
   "id": "a93926e2-d681-46f8-a667-3d8867d8a010",
   "metadata": {},
   "outputs": [
    {
     "name": "stdout",
     "output_type": "stream",
     "text": [
      "Simulating delivery of 227 parcels over 10 days to 150 customers\n",
      "Total payment for driver: 900.00€\n",
      "Total operational cost: 25.31€\n",
      "Total cost: 925.31€\n",
      "Average cost per day: 92.53€\n",
      "Simulating delivery of 227 parcels over 10 days to 150 customers\n",
      "Total payment for driver: 958.50€\n",
      "Total operational cost: 27.64€\n",
      "Total cost: 986.14€\n",
      "Average cost per day: 98.61€\n",
      "Daily total cost ANOVA Results for 10 days:\n",
      "F-Statistic: 1.1991572386819596\n",
      "P-Value: 0.287927085032909\n",
      "Location: Bad\n",
      "Simulating delivery of 452 parcels over 20 days to 150 customers\n",
      "Total payment for driver: 1863.00€\n",
      "Total operational cost: 52.76€\n",
      "Total cost: 1915.76€\n",
      "Average cost per day: 95.79€\n",
      "Simulating delivery of 452 parcels over 20 days to 150 customers\n",
      "Total payment for driver: 1976.00€\n",
      "Total operational cost: 57.19€\n",
      "Total cost: 2033.19€\n",
      "Average cost per day: 101.66€\n",
      "Daily total cost ANOVA Results for 20 days:\n",
      "F-Statistic: 3.5233731634657595\n",
      "P-Value: 0.06820249415307655\n",
      "Location: Bad\n",
      "Simulating delivery of 676 parcels over 30 days to 150 customers\n",
      "Total payment for driver: 2772.00€\n",
      "Total operational cost: 78.58€\n",
      "Total cost: 2850.58€\n",
      "Average cost per day: 95.02€\n",
      "Simulating delivery of 676 parcels over 30 days to 150 customers\n",
      "Total payment for driver: 2932.50€\n",
      "Total operational cost: 85.14€\n",
      "Total cost: 3017.64€\n",
      "Average cost per day: 100.59€\n",
      "Daily total cost ANOVA Results for 30 days:\n",
      "F-Statistic: 2.9840901352609888\n",
      "P-Value: 0.0894086156558658\n",
      "Location: Bad\n",
      "Simulating delivery of 885 parcels over 40 days to 150 customers\n",
      "Total payment for driver: 3673.00€\n",
      "Total operational cost: 104.70€\n",
      "Total cost: 3777.70€\n",
      "Average cost per day: 94.44€\n",
      "Simulating delivery of 885 parcels over 40 days to 150 customers\n",
      "Total payment for driver: 3879.50€\n",
      "Total operational cost: 113.23€\n",
      "Total cost: 3992.73€\n",
      "Average cost per day: 99.82€\n",
      "Daily total cost ANOVA Results for 40 days:\n",
      "F-Statistic: 4.287923672269769\n",
      "P-Value: 0.04169211251698015\n",
      "Location: Good\n",
      "\n",
      "There is a significant difference between the good and bad locations.\n"
     ]
    }
   ],
   "source": [
    "from scipy.stats import f_oneway\n",
    "\n",
    "# Define function to run simulation for a given warehouse location and number of days\n",
    "def run_simulation_for_location(location, days):\n",
    "    result = simulation(M, location, C, p, days, seed, log, plot, timing)\n",
    "    return result\n",
    "\n",
    "# Define good and bad warehouse locations\n",
    "good_location = (3440, 2880)\n",
    "bad_location = (5680, 640)\n",
    "p = 0.15  # Probability parameter\n",
    "days = 4  # Number of simulation days\n",
    "seed = 0  # Random seed\n",
    "log = False  # Logging option\n",
    "plot = False  # Plotting option\n",
    "timing = False  # Timing option\n",
    "# Initialize variables\n",
    "current_days = 10  # Starting number of simulation days\n",
    "\n",
    "# Lists to store mean costs for good and bad locations\n",
    "mean_costs_good = []\n",
    "mean_costs_bad = []\n",
    "\n",
    "# Loop until the difference in mean costs is statistically significant\n",
    "while True:\n",
    "    # Run simulation for the good location\n",
    "    result_good = run_simulation_for_location(good_location, current_days)\n",
    "    # Run simulation for the bad location\n",
    "    result_bad = run_simulation_for_location(bad_location, current_days)\n",
    "\n",
    "    # Perform ANOVA\n",
    "    f_statistic, p_value = f_oneway(result_good.daily['total cost'], result_bad.daily['total cost'])\n",
    "    \n",
    "    # Print ANOVA results\n",
    "    print(f\"Daily total cost ANOVA Results for {current_days} days:\")\n",
    "    print(\"F-Statistic:\", f_statistic)\n",
    "    print(\"P-Value:\", p_value)\n",
    "    print(\"Location: Good\") if p_value < 0.05 else print(\"Location: Bad\")\n",
    "\n",
    "    # Check if the difference in mean costs is statistically significant\n",
    "    if p_value < 0.05:\n",
    "        print(\"\\nThere is a significant difference between the good and bad locations.\")\n",
    "        break  # Exit the loop if the difference is statistically significant\n",
    "\n",
    "    # Increment the number of simulation days for the next iteration\n",
    "    current_days += 10  # You can adjust the increment value as needed\n"
   ]
  },
  {
   "cell_type": "markdown",
   "id": "f58c6e86-35d8-4489-b801-8eb4d7434e11",
   "metadata": {},
   "source": [
    "### Anova test with all warehouse locations and 50 days"
   ]
  },
  {
   "cell_type": "code",
   "execution_count": 49,
   "id": "0b65ff51-d3e0-4671-9f09-092d135f18e2",
   "metadata": {},
   "outputs": [
    {
     "name": "stdout",
     "output_type": "stream",
     "text": [
      "Simulating delivery of 1139 parcels over 50 days to 150 customers\n",
      "Total payment for driver: 4665.50€\n",
      "Total operational cost: 133.17€\n",
      "Total cost: 4798.67€\n",
      "Average cost per day: 95.97€\n",
      "Simulating delivery of 1139 parcels over 50 days to 150 customers\n",
      "Total payment for driver: 4648.50€\n",
      "Total operational cost: 132.29€\n",
      "Total cost: 4780.79€\n",
      "Average cost per day: 95.62€\n",
      "Simulating delivery of 1139 parcels over 50 days to 150 customers\n",
      "Total payment for driver: 4637.50€\n",
      "Total operational cost: 131.38€\n",
      "Total cost: 4768.88€\n",
      "Average cost per day: 95.38€\n",
      "Simulating delivery of 1139 parcels over 50 days to 150 customers\n",
      "Total payment for driver: 4658.00€\n",
      "Total operational cost: 132.03€\n",
      "Total cost: 4790.03€\n",
      "Average cost per day: 95.80€\n",
      "Simulating delivery of 1139 parcels over 50 days to 150 customers\n",
      "Total payment for driver: 4647.50€\n",
      "Total operational cost: 131.80€\n",
      "Total cost: 4779.30€\n",
      "Average cost per day: 95.59€\n",
      "Simulating delivery of 1139 parcels over 50 days to 150 customers\n",
      "Total payment for driver: 4693.50€\n",
      "Total operational cost: 133.32€\n",
      "Total cost: 4826.82€\n",
      "Average cost per day: 96.54€\n",
      "Simulating delivery of 1139 parcels over 50 days to 150 customers\n",
      "Total payment for driver: 4727.50€\n",
      "Total operational cost: 134.70€\n",
      "Total cost: 4862.20€\n",
      "Average cost per day: 97.24€\n",
      "Simulating delivery of 1139 parcels over 50 days to 150 customers\n",
      "Total payment for driver: 4682.50€\n",
      "Total operational cost: 133.94€\n",
      "Total cost: 4816.44€\n",
      "Average cost per day: 96.33€\n",
      "Simulating delivery of 1139 parcels over 50 days to 150 customers\n",
      "Total payment for driver: 4649.00€\n",
      "Total operational cost: 131.97€\n",
      "Total cost: 4780.97€\n",
      "Average cost per day: 95.62€\n",
      "Simulating delivery of 1139 parcels over 50 days to 150 customers\n",
      "Total payment for driver: 4899.50€\n",
      "Total operational cost: 142.26€\n",
      "Total cost: 5041.76€\n",
      "Average cost per day: 100.84€\n",
      "Best warehouse location: (5680, 3440)\n"
     ]
    }
   ],
   "source": [
    "# Define warehouse locations\n",
    "W_locations = [(5120, 3440),\n",
    " (2880, 2320),\n",
    " (5680, 3440),\n",
    " (3440, 2880),\n",
    " (5680, 4560),\n",
    " (2880, 1200),\n",
    " (5680, 7360),\n",
    " (4000, 7360),\n",
    " (2320, 6240),\n",
    " (5680, 640)]\n",
    "\n",
    "p = 0.15  # Probability parameter\n",
    "days = 50  # Number of simulation days\n",
    "\n",
    "seed = 0  # Random seed\n",
    "log = False  # Logging option\n",
    "plot = False  # Plotting option\n",
    "timing = False  # Timing option\n",
    "\n",
    "# Run simulation for each warehouse location\n",
    "results = {}\n",
    "for W in W_locations:\n",
    "    result = simulation(M, W, C, p, days, seed, log, plot, timing)\n",
    "    results[W] = result\n",
    "\n",
    "# Now, you can compare the results to determine the best location\n",
    "# You may compare based on total payment, total cost, average cost per day, etc.\n",
    "# For example:\n",
    "best_location = min(results, key=lambda k: results[k].daily_cost)\n",
    "print(\"Best warehouse location:\", best_location)\n",
    "\n",
    "with open('multipleLocations.pickled', 'wb') as f:\n",
    "            pickle.dump(rec, f)\n"
   ]
  },
  {
   "cell_type": "code",
   "execution_count": 51,
   "id": "b8bf9255-7ff5-4674-bf9e-6819563c535c",
   "metadata": {},
   "outputs": [
    {
     "name": "stdout",
     "output_type": "stream",
     "text": [
      "ANOVA Results:\n",
      "F-Statistic: 1.1532849533502205\n",
      "P-Value: 0.32334093479364845\n"
     ]
    }
   ],
   "source": [
    "from scipy.stats import f_oneway\n",
    "\n",
    "# Initialize a dictionary to store total costs for each location\n",
    "total_costs_per_location = {}\n",
    "\n",
    "# Extract the relevant metrics from each simulation and store them in the dictionary\n",
    "for W in W_locations:\n",
    "    total_costs_per_location[W] = results[W].daily['total cost']\n",
    "\n",
    "# Perform ANOVA\n",
    "f_statistic, p_value = f_oneway(*total_costs_per_location.values())\n",
    "\n",
    "# Print ANOVA results\n",
    "print(\"ANOVA Results:\")\n",
    "print(\"F-Statistic:\", f_statistic)\n",
    "print(\"P-Value:\", p_value)\n"
   ]
  },
  {
   "cell_type": "markdown",
   "id": "8fb9b6f0-bb7d-4c2d-befb-d01e04f80a1d",
   "metadata": {},
   "source": [
    "### Anova test with all warehouse locations and 70 days"
   ]
  },
  {
   "cell_type": "code",
   "execution_count": 52,
   "id": "b504545d-0be7-4706-bac7-8f1e7f0b8aa5",
   "metadata": {},
   "outputs": [
    {
     "name": "stdout",
     "output_type": "stream",
     "text": [
      "Simulating delivery of 1610 parcels over 70 days to 150 customers\n",
      "Total payment for driver: 6655.00€\n",
      "Total operational cost: 190.05€\n",
      "Total cost: 6845.05€\n",
      "Average cost per day: 97.79€\n",
      "Simulating delivery of 1610 parcels over 70 days to 150 customers\n",
      "Total payment for driver: 6626.50€\n",
      "Total operational cost: 189.22€\n",
      "Total cost: 6815.72€\n",
      "Average cost per day: 97.37€\n",
      "Simulating delivery of 1610 parcels over 70 days to 150 customers\n",
      "Total payment for driver: 6570.00€\n",
      "Total operational cost: 187.51€\n",
      "Total cost: 6757.51€\n",
      "Average cost per day: 96.54€\n",
      "Simulating delivery of 1610 parcels over 70 days to 150 customers\n",
      "Total payment for driver: 6638.00€\n",
      "Total operational cost: 189.32€\n",
      "Total cost: 6827.32€\n",
      "Average cost per day: 97.53€\n",
      "Simulating delivery of 1610 parcels over 70 days to 150 customers\n",
      "Total payment for driver: 6605.50€\n",
      "Total operational cost: 188.30€\n",
      "Total cost: 6793.80€\n",
      "Average cost per day: 97.05€\n",
      "Simulating delivery of 1610 parcels over 70 days to 150 customers\n",
      "Total payment for driver: 6638.00€\n",
      "Total operational cost: 189.21€\n",
      "Total cost: 6827.21€\n",
      "Average cost per day: 97.53€\n",
      "Simulating delivery of 1610 parcels over 70 days to 150 customers\n",
      "Total payment for driver: 6724.00€\n",
      "Total operational cost: 193.36€\n",
      "Total cost: 6917.36€\n",
      "Average cost per day: 98.82€\n",
      "Simulating delivery of 1610 parcels over 70 days to 150 customers\n",
      "Total payment for driver: 6689.50€\n",
      "Total operational cost: 191.67€\n",
      "Total cost: 6881.17€\n",
      "Average cost per day: 98.30€\n",
      "Simulating delivery of 1610 parcels over 70 days to 150 customers\n",
      "Total payment for driver: 6590.00€\n",
      "Total operational cost: 187.93€\n",
      "Total cost: 6777.93€\n",
      "Average cost per day: 96.83€\n",
      "Simulating delivery of 1610 parcels over 70 days to 150 customers\n",
      "Total payment for driver: 6962.00€\n",
      "Total operational cost: 203.10€\n",
      "Total cost: 7165.10€\n",
      "Average cost per day: 102.36€\n",
      "Best warehouse location: (5680, 3440)\n"
     ]
    }
   ],
   "source": [
    "# Define warehouse locations\n",
    "W_locations = [(5120, 3440),\n",
    " (2880, 2320),\n",
    " (5680, 3440),\n",
    " (3440, 2880),\n",
    " (5680, 4560),\n",
    " (2880, 1200),\n",
    " (5680, 7360),\n",
    " (4000, 7360),\n",
    " (2320, 6240),\n",
    " (5680, 640)]\n",
    "\n",
    "p = 0.15  # Probability parameter\n",
    "days = 70  # Number of simulation days\n",
    "\n",
    "seed = 0  # Random seed\n",
    "log = False  # Logging option\n",
    "plot = False  # Plotting option\n",
    "timing = False  # Timing option\n",
    "\n",
    "# Run simulation for each warehouse location\n",
    "results = {}\n",
    "for W in W_locations:\n",
    "    result = simulation(M, W, C, p, days, seed, log, plot, timing)\n",
    "    results[W] = result\n",
    "\n",
    "# Now, you can compare the results to determine the best location\n",
    "# You may compare based on total payment, total cost, average cost per day, etc.\n",
    "# For example:\n",
    "best_location = min(results, key=lambda k: results[k].daily_cost)\n",
    "print(\"Best warehouse location:\", best_location)\n",
    "\n",
    "with open('multipleLocations.pickled', 'wb') as f:\n",
    "            pickle.dump(rec, f)\n"
   ]
  },
  {
   "cell_type": "code",
   "execution_count": 53,
   "id": "f32c38af-4b2f-4acc-b755-2bf46161e640",
   "metadata": {},
   "outputs": [
    {
     "name": "stdout",
     "output_type": "stream",
     "text": [
      "ANOVA Results:\n",
      "F-Statistic: 1.6460685257211112\n",
      "P-Value: 0.09856721355665408\n"
     ]
    }
   ],
   "source": [
    "from scipy.stats import f_oneway\n",
    "\n",
    "# Initialize a dictionary to store total costs for each location\n",
    "total_costs_per_location = {}\n",
    "\n",
    "# Extract the relevant metrics from each simulation and store them in the dictionary\n",
    "for W in W_locations:\n",
    "    total_costs_per_location[W] = results[W].daily['total cost']\n",
    "\n",
    "# Perform ANOVA\n",
    "f_statistic, p_value = f_oneway(*total_costs_per_location.values())\n",
    "\n",
    "# Print ANOVA results\n",
    "print(\"ANOVA Results:\")\n",
    "print(\"F-Statistic:\", f_statistic)\n",
    "print(\"P-Value:\", p_value)\n"
   ]
  },
  {
   "cell_type": "markdown",
   "id": "a18afc12-18c5-4d8d-9fa1-fc6000e05a25",
   "metadata": {},
   "source": [
    "### Anova test with all warehouse locations and 80 days"
   ]
  },
  {
   "cell_type": "code",
   "execution_count": 57,
   "id": "82d1a7cb-8388-4a96-9fca-4133201de657",
   "metadata": {},
   "outputs": [
    {
     "name": "stdout",
     "output_type": "stream",
     "text": [
      "Simulating delivery of 1842 parcels over 80 days to 150 customers\n",
      "Total payment for driver: 7545.00€\n",
      "Total operational cost: 215.37€\n",
      "Total cost: 7760.37€\n",
      "Average cost per day: 97.00€\n",
      "Simulating delivery of 1842 parcels over 80 days to 150 customers\n",
      "Total payment for driver: 7528.50€\n",
      "Total operational cost: 214.15€\n",
      "Total cost: 7742.65€\n",
      "Average cost per day: 96.78€\n",
      "Simulating delivery of 1842 parcels over 80 days to 150 customers\n",
      "Total payment for driver: 7476.00€\n",
      "Total operational cost: 212.78€\n",
      "Total cost: 7688.78€\n",
      "Average cost per day: 96.11€\n",
      "Simulating delivery of 1842 parcels over 80 days to 150 customers\n",
      "Total payment for driver: 7520.00€\n",
      "Total operational cost: 214.01€\n",
      "Total cost: 7734.01€\n",
      "Average cost per day: 96.68€\n",
      "Simulating delivery of 1842 parcels over 80 days to 150 customers\n",
      "Total payment for driver: 7492.00€\n",
      "Total operational cost: 213.20€\n",
      "Total cost: 7705.20€\n",
      "Average cost per day: 96.32€\n",
      "Simulating delivery of 1842 parcels over 80 days to 150 customers\n",
      "Total payment for driver: 7544.00€\n",
      "Total operational cost: 215.01€\n",
      "Total cost: 7759.01€\n",
      "Average cost per day: 96.99€\n",
      "Simulating delivery of 1842 parcels over 80 days to 150 customers\n",
      "Total payment for driver: 7624.00€\n",
      "Total operational cost: 218.66€\n",
      "Total cost: 7842.66€\n",
      "Average cost per day: 98.03€\n",
      "Simulating delivery of 1842 parcels over 80 days to 150 customers\n",
      "Total payment for driver: 7598.50€\n",
      "Total operational cost: 217.23€\n",
      "Total cost: 7815.73€\n",
      "Average cost per day: 97.70€\n",
      "Simulating delivery of 1842 parcels over 80 days to 150 customers\n",
      "Total payment for driver: 7494.50€\n",
      "Total operational cost: 212.96€\n",
      "Total cost: 7707.46€\n",
      "Average cost per day: 96.34€\n",
      "Simulating delivery of 1842 parcels over 80 days to 150 customers\n",
      "Total payment for driver: 7942.00€\n",
      "Total operational cost: 231.24€\n",
      "Total cost: 8173.24€\n",
      "Average cost per day: 102.17€\n",
      "Best warehouse location: (5680, 3440)\n"
     ]
    }
   ],
   "source": [
    "# Define warehouse locations\n",
    "W_locations = [(5120, 3440),\n",
    " (2880, 2320),\n",
    " (5680, 3440),\n",
    " (3440, 2880),\n",
    " (5680, 4560),\n",
    " (2880, 1200),\n",
    " (5680, 7360),\n",
    " (4000, 7360),\n",
    " (2320, 6240),\n",
    " (5680, 640)]\n",
    "\n",
    "p = 0.15  # Probability parameter\n",
    "days = 80  # Number of simulation days\n",
    "\n",
    "seed = 0  # Random seed\n",
    "log = False  # Logging option\n",
    "plot = False  # Plotting option\n",
    "timing = False  # Timing option\n",
    "\n",
    "# Run simulation for each warehouse location\n",
    "results = {}\n",
    "for W in W_locations:\n",
    "    result = simulation(M, W, C, p, days, seed, log, plot, timing)\n",
    "    results[W] = result\n",
    "\n",
    "# Now, you can compare the results to determine the best location\n",
    "# You may compare based on total payment, total cost, average cost per day, etc.\n",
    "# For example:\n",
    "best_location = min(results, key=lambda k: results[k].daily_cost)\n",
    "print(\"Best warehouse location:\", best_location)\n",
    "\n",
    "with open('multipleLocations.pickled', 'wb') as f:\n",
    "            pickle.dump(rec, f)\n"
   ]
  },
  {
   "cell_type": "code",
   "execution_count": 58,
   "id": "cba93b55-2f49-4031-b74f-d3cf3b5f660f",
   "metadata": {},
   "outputs": [
    {
     "name": "stdout",
     "output_type": "stream",
     "text": [
      "ANOVA Results:\n",
      "F-Statistic: 1.8397658795916405\n",
      "P-Value: 0.05789076251786821\n"
     ]
    }
   ],
   "source": [
    "from scipy.stats import f_oneway\n",
    "\n",
    "# Initialize a dictionary to store total costs for each location\n",
    "total_costs_per_location = {}\n",
    "\n",
    "# Extract the relevant metrics from each simulation and store them in the dictionary\n",
    "for W in W_locations:\n",
    "    total_costs_per_location[W] = results[W].daily['total cost']\n",
    "\n",
    "# Perform ANOVA\n",
    "f_statistic, p_value = f_oneway(*total_costs_per_location.values())\n",
    "\n",
    "# Print ANOVA results\n",
    "print(\"ANOVA Results:\")\n",
    "print(\"F-Statistic:\", f_statistic)\n",
    "print(\"P-Value:\", p_value)\n"
   ]
  },
  {
   "cell_type": "markdown",
   "id": "0704d114-9c77-4e1b-a472-afbe97b162fb",
   "metadata": {},
   "source": [
    "### Anova test with all warehouse locations and 85 days"
   ]
  },
  {
   "cell_type": "code",
   "execution_count": 47,
   "id": "d2fcb160-ddb3-48c4-b2f5-4af2569976b8",
   "metadata": {},
   "outputs": [
    {
     "name": "stdout",
     "output_type": "stream",
     "text": [
      "Simulating delivery of 1944 parcels over 85 days to 150 customers\n",
      "Total payment for driver: 7916.50€\n",
      "Total operational cost: 225.94€\n",
      "Total cost: 8142.44€\n",
      "Average cost per day: 95.79€\n",
      "Simulating delivery of 1944 parcels over 85 days to 150 customers\n",
      "Total payment for driver: 7902.00€\n",
      "Total operational cost: 225.07€\n",
      "Total cost: 8127.07€\n",
      "Average cost per day: 95.61€\n",
      "Simulating delivery of 1944 parcels over 85 days to 150 customers\n",
      "Total payment for driver: 7855.00€\n",
      "Total operational cost: 223.23€\n",
      "Total cost: 8078.23€\n",
      "Average cost per day: 95.04€\n",
      "Simulating delivery of 1944 parcels over 85 days to 150 customers\n",
      "Total payment for driver: 7899.50€\n",
      "Total operational cost: 224.93€\n",
      "Total cost: 8124.43€\n",
      "Average cost per day: 95.58€\n",
      "Simulating delivery of 1944 parcels over 85 days to 150 customers\n",
      "Total payment for driver: 7860.00€\n",
      "Total operational cost: 223.95€\n",
      "Total cost: 8083.95€\n",
      "Average cost per day: 95.11€\n",
      "Simulating delivery of 1944 parcels over 85 days to 150 customers\n",
      "Total payment for driver: 7908.00€\n",
      "Total operational cost: 225.66€\n",
      "Total cost: 8133.66€\n",
      "Average cost per day: 95.69€\n",
      "Simulating delivery of 1944 parcels over 85 days to 150 customers\n",
      "Total payment for driver: 8003.00€\n",
      "Total operational cost: 229.30€\n",
      "Total cost: 8232.30€\n",
      "Average cost per day: 96.85€\n",
      "Simulating delivery of 1944 parcels over 85 days to 150 customers\n",
      "Total payment for driver: 7969.50€\n",
      "Total operational cost: 227.63€\n",
      "Total cost: 8197.13€\n",
      "Average cost per day: 96.44€\n",
      "Simulating delivery of 1944 parcels over 85 days to 150 customers\n",
      "Total payment for driver: 7883.00€\n",
      "Total operational cost: 224.16€\n",
      "Total cost: 8107.16€\n",
      "Average cost per day: 95.38€\n",
      "Simulating delivery of 1944 parcels over 85 days to 150 customers\n",
      "Total payment for driver: 8374.00€\n",
      "Total operational cost: 243.97€\n",
      "Total cost: 8617.97€\n",
      "Average cost per day: 101.39€\n",
      "Best warehouse location: (5680, 3440)\n"
     ]
    }
   ],
   "source": [
    "# Define warehouse locations\n",
    "W_locations = [(5120, 3440),\n",
    " (2880, 2320),\n",
    " (5680, 3440),\n",
    " (3440, 2880),\n",
    " (5680, 4560),\n",
    " (2880, 1200),\n",
    " (5680, 7360),\n",
    " (4000, 7360),\n",
    " (2320, 6240),\n",
    " (5680, 640)]\n",
    "\n",
    "p = 0.15  # Probability parameter\n",
    "days = 85  # Number of simulation days\n",
    "\n",
    "seed = 0  # Random seed\n",
    "log = False  # Logging option\n",
    "plot = False  # Plotting option\n",
    "timing = False  # Timing option\n",
    "\n",
    "# Run simulation for each warehouse location\n",
    "results = {}\n",
    "for W in W_locations:\n",
    "    result = simulation(M, W, C, p, days, seed, log, plot, timing)\n",
    "    results[W] = result\n",
    "\n",
    "# Now, you can compare the results to determine the best location\n",
    "# You may compare based on total payment, total cost, average cost per day, etc.\n",
    "# For example:\n",
    "best_location = min(results, key=lambda k: results[k].daily_cost)\n",
    "print(\"Best warehouse location:\", best_location)\n",
    "\n",
    "with open('multipleLocations.pickled', 'wb') as f:\n",
    "            pickle.dump(rec, f)\n"
   ]
  },
  {
   "cell_type": "code",
   "execution_count": 64,
   "id": "b01d675f-b257-456b-a466-b9a3f1134546",
   "metadata": {},
   "outputs": [
    {
     "name": "stdout",
     "output_type": "stream",
     "text": [
      "Best warehouse location: (5680, 3440)\n",
      "Cost for the best warehouse location: 8078.22608\n"
     ]
    }
   ],
   "source": [
    "# Find the best warehouse location\n",
    "best_location = min(results, key=lambda k: results[k].daily_cost)\n",
    "best_cost = results[best_location].daily_cost\n",
    "\n",
    "# Print the best warehouse location with its cost\n",
    "print(\"Best warehouse location:\", best_location)\n",
    "print(\"Cost for the best warehouse location:\", best_cost)\n",
    "\n",
    "# Save the best location and its cost to a file\n",
    "with open('best_location.txt', 'w') as f:\n",
    "    f.write(f\"Best warehouse location: {best_location}\\n\")\n",
    "    f.write(f\"Cost for the best warehouse location: {best_cost}\\n\")\n"
   ]
  },
  {
   "cell_type": "code",
   "execution_count": 48,
   "id": "b38762a7-fed7-4a57-a421-1626c0b0bc14",
   "metadata": {},
   "outputs": [
    {
     "name": "stdout",
     "output_type": "stream",
     "text": [
      "ANOVA Results:\n",
      "F-Statistic: 2.3288837533644995\n",
      "P-Value: 0.013622323501893293\n"
     ]
    }
   ],
   "source": [
    "from scipy.stats import f_oneway\n",
    "\n",
    "# Initialize a dictionary to store total costs for each location\n",
    "total_costs_per_location = {}\n",
    "\n",
    "# Extract the relevant metrics from each simulation and store them in the dictionary\n",
    "for W in W_locations:\n",
    "    total_costs_per_location[W] = results[W].daily['total cost']\n",
    "\n",
    "# Perform ANOVA\n",
    "f_statistic, p_value = f_oneway(*total_costs_per_location.values())\n",
    "\n",
    "# Print ANOVA results\n",
    "print(\"ANOVA Results:\")\n",
    "print(\"F-Statistic:\", f_statistic)\n",
    "print(\"P-Value:\", p_value)\n"
   ]
  },
  {
   "cell_type": "code",
   "execution_count": 65,
   "id": "0dee861d-03fc-496c-babb-a5410450dbc5",
   "metadata": {},
   "outputs": [
    {
     "data": {
      "image/png": "[encoded data removed]",
      "text/plain": [
       "<Figure size 640x480 with 1 Axes>"
      ]
     },
     "metadata": {},
     "output_type": "display_data"
    }
   ],
   "source": [
    "import matplotlib.pyplot as plt\n",
    "\n",
    "# Extract daily costs for each warehouse location\n",
    "daily_costs_per_location = [[results[W].daily_cost] for W in W_locations]\n",
    "\n",
    "# Create boxplot\n",
    "plt.boxplot(daily_costs_per_location)\n",
    "plt.title('Boxplot of Total Costs for Warehouse Locations 85 days')\n",
    "plt.xlabel('Warehouse Locations')\n",
    "plt.ylabel('Total Cost')\n",
    "plt.xticks(range(1, len(W_locations) + 1), [str(W) for W in W_locations], rotation=45)\n",
    "plt.grid(True)\n",
    "plt.tight_layout()\n",
    "\n",
    "# Show plot\n",
    "plt.show()\n"
   ]
  }
 ],
 "metadata": {
  "kernelspec": {
   "display_name": "Python 3 (ipykernel)",
   "language": "python",
   "name": "python3"
  },
  "language_info": {
   "codemirror_mode": {
    "name": "ipython",
    "version": 3
   },
   "file_extension": ".py",
   "mimetype": "text/x-python",
   "name": "python",
   "nbconvert_exporter": "python",
   "pygments_lexer": "ipython3",
   "version": "3.11.7"
  },
  "toc": {
   "base_numbering": 1,
   "nav_menu": {
    "height": "173.25px",
    "width": "233px"
   },
   "number_sections": true,
   "sideBar": true,
   "skip_h1_title": false,
   "title_cell": "Table of Contents",
   "title_sidebar": "Contents",
   "toc_cell": true,
   "toc_position": {},
   "toc_section_display": true,
   "toc_window_display": false
  }
 },
 "nbformat": 4,
 "nbformat_minor": 5
}
