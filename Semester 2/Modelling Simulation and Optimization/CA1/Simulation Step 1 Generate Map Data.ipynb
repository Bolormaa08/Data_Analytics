{
 "cells": [
  {
   "cell_type": "code",
   "execution_count": 1,
   "id": "86e32ad9",
   "metadata": {
    "ExecuteTime": {
     "end_time": "2023-07-04T11:55:30.164805Z",
     "start_time": "2023-07-04T11:55:29.174321Z"
    }
   },
   "outputs": [],
   "source": [
    "import matplotlib.pyplot as plt\n",
    "import math\n",
    "import random\n",
    "import numpy as np"
   ]
  },
  {
   "cell_type": "markdown",
   "id": "db1b65cc",
   "metadata": {},
   "source": [
    "**Hints for students:** The utility section contains code you need to use *unchanged* to generate the test data required. You may use this code for your final solution, beware not to overwrite function definitions in this section. Otherwise you can ignore the code in this section."
   ]
  },
  {
   "cell_type": "markdown",
   "id": "6f364ca7",
   "metadata": {
    "heading_collapsed": true
   },
   "source": [
    "# Utilities"
   ]
  },
  {
   "cell_type": "markdown",
   "id": "0d618a29",
   "metadata": {
    "hidden": true
   },
   "source": [
    "**Note:** Section 1.1-1.4 is identical to the MST example (Week 3). 1.5-1.10 are adjustments of the data structures for the current problem. "
   ]
  },
  {
   "cell_type": "markdown",
   "id": "8027b3d2",
   "metadata": {
    "hidden": true
   },
   "source": [
    "## Points and Distances"
   ]
  },
  {
   "cell_type": "markdown",
   "id": "0827b248-8d3c-4b51-ae7b-9bf7270048d8",
   "metadata": {},
   "source": [
    "Euclidean Distance between two points"
   ]
  },
  {
   "cell_type": "code",
   "execution_count": 2,
   "id": "fdee6ad8",
   "metadata": {
    "ExecuteTime": {
     "end_time": "2023-07-04T11:55:30.171917Z",
     "start_time": "2023-07-04T11:55:30.169259Z"
    },
    "hidden": true
   },
   "outputs": [],
   "source": [
    "def dist(p1, p2):\n",
    "    (x1, y1) = p1\n",
    "    (x2, y2) = p2\n",
    "    return int(math.sqrt((x1-x2)**2+(y1-y2)**2))"
   ]
  },
  {
   "cell_type": "markdown",
   "id": "d4773bc7-c22e-45a3-8c2a-ce5c300980d4",
   "metadata": {},
   "source": [
    "The nearest link between two point sets"
   ]
  },
  {
   "cell_type": "code",
   "execution_count": 3,
   "id": "d68f6f97",
   "metadata": {
    "ExecuteTime": {
     "end_time": "2023-07-04T11:55:30.176728Z",
     "start_time": "2023-07-04T11:55:30.173920Z"
    },
    "hidden": true
   },
   "outputs": [],
   "source": [
    "def nearest(X, P):\n",
    "    minD = math.inf\n",
    "    minP = None\n",
    "    for p in P:\n",
    "        for x in X:\n",
    "            d=dist(x, p)\n",
    "            if d<minD:\n",
    "                minX, minP, minD = x, p, d\n",
    "    return minX, minP         "
   ]
  },
  {
   "cell_type": "markdown",
   "id": "3115ac70-a576-4da3-8c38-47cfcf46b466",
   "metadata": {},
   "source": [
    "## Graphs"
   ]
  },
  {
   "cell_type": "code",
   "execution_count": 4,
   "id": "0c8ee7e2",
   "metadata": {
    "ExecuteTime": {
     "end_time": "2023-07-04T11:55:30.181765Z",
     "start_time": "2023-07-04T11:55:30.177866Z"
    },
    "hidden": true
   },
   "outputs": [],
   "source": [
    "def generateRandomGraph(n, x0, y0, r):\n",
    "\n",
    "    def rounding(x):\n",
    "        return int(math.floor(x/10))*10\n",
    "\n",
    "    x0 = rounding(x0)\n",
    "    y0 = rounding(y0)\n",
    "    gridsize = rounding(r / math.sqrt(n) * 1.4)\n",
    "    r = int(math.floor(r/gridsize))*gridsize\n",
    "    split = int(2*r/gridsize)+1\n",
    "    X = np.linspace(x0-r, x0+r, split)\n",
    "    Y = np.linspace(y0-r, y0+r, split)\n",
    "    P = [ (int(x), int(y)) for x in X for y in Y if dist((x,y), (x0,y0)) < r ]\n",
    "    P = random.sample(P, k=n)\n",
    "    \n",
    "    E = []\n",
    "    \n",
    "    def addEdge(p, q):\n",
    "        if p in P and q in P and (p, q) not in E and (q, p) not in E:\n",
    "            E.append((p, q))\n",
    "    def addDiagonalEdge(p, q):\n",
    "        (xp, yp) = p\n",
    "        (xq, yq) = q\n",
    "        if p in P and q in P and (xp, yq) not in P and (xq, yp) not in P and (p, q) not in E and (q, p) not in E:\n",
    "            E.append((p, q))\n",
    "            \n",
    "    for (x, y) in P:\n",
    "        addEdge( (x, y), (x, y+gridsize) )\n",
    "        addEdge( (x, y), (x, y-gridsize) )\n",
    "        addEdge( (x, y), (x+gridsize, y) )\n",
    "        addEdge( (x, y), (x-gridsize, y) )\n",
    "        addDiagonalEdge( (x, y), (x+gridsize, y+gridsize) )\n",
    "        addDiagonalEdge( (x, y), (x+gridsize, y-gridsize) )\n",
    "        addDiagonalEdge( (x, y), (x-gridsize, y+gridsize) )\n",
    "        addDiagonalEdge( (x, y), (x-gridsize, y-gridsize) )\n",
    "        \n",
    "    return sorted(P), sorted(E)"
   ]
  },
  {
   "cell_type": "code",
   "execution_count": 5,
   "id": "a906e898-58d1-4e7e-89a6-cb3f05ab7969",
   "metadata": {},
   "outputs": [],
   "source": [
    "def plotGraph(P, E, col='b', grid=False):\n",
    "    fig = plt.gcf()\n",
    "    fig.set_size_inches(6, 6)\n",
    "    if not grid:\n",
    "        plt.axis('off')\n",
    "    plt.plot( [ p[0] for p in P ], [ p[1] for p in P ], col+'o', lw=1, ms=3)\n",
    "    for (p, q) in E:\n",
    "        plt.plot( [ p[0], q[0] ], [ p[1], q[1] ], col+'-o', lw=1, ms=3)\n",
    "    if grid:\n",
    "        plt.grid()"
   ]
  },
  {
   "cell_type": "code",
   "execution_count": 6,
   "id": "c8775ff5-107a-458a-9aa3-7620fa36d8e8",
   "metadata": {},
   "outputs": [
    {
     "data": {
      "image/png": "[encoded data removed]",
      "text/plain": [
       "<Figure size 600x600 with 1 Axes>"
      ]
     },
     "metadata": {},
     "output_type": "display_data"
    }
   ],
   "source": [
    "random.seed(42)\n",
    "V, E = generateRandomGraph(100, 5000, 5000, 4500)\n",
    "plotGraph(V, E)"
   ]
  },
  {
   "cell_type": "markdown",
   "id": "d39924e8-71a1-4fb0-aaee-10d17bf89adf",
   "metadata": {},
   "source": [
    "The random generation may result in a graph consisting of multiple not connected subgraphs.\n",
    "Split a graph into not connected subgraphs, if any."
   ]
  },
  {
   "cell_type": "code",
   "execution_count": 7,
   "id": "9c572cfc-ecd8-4f5f-a236-b8aab63c3f56",
   "metadata": {},
   "outputs": [],
   "source": [
    "def subgraph(P, E):\n",
    "    P = P.copy()\n",
    "    E = E.copy()\n",
    "    PP = [ P[0] ] \n",
    "    EE = []\n",
    "    P = P[1:]\n",
    "    extended = True\n",
    "    while extended:\n",
    "        extended = False\n",
    "        for (a, b) in E:\n",
    "            if a in PP and b in P:\n",
    "                PP.append(b)\n",
    "                P.remove(b)\n",
    "                EE.append((a, b))\n",
    "                E.remove((a, b))\n",
    "                extended = True\n",
    "                break\n",
    "            if a in P and b in PP:\n",
    "                PP.append(a)\n",
    "                P.remove(a)\n",
    "                EE.append((a, b))\n",
    "                E.remove((a, b))\n",
    "                extended = True\n",
    "                break\n",
    "            if a in PP and b in PP:\n",
    "                EE.append((a, b))\n",
    "                E.remove((a, b))\n",
    "                extended = True\n",
    "                break\n",
    "    return PP, EE, P, E       "
   ]
  },
  {
   "cell_type": "code",
   "execution_count": 8,
   "id": "2ace15f0-b353-431c-b345-b1d53fee92b5",
   "metadata": {},
   "outputs": [],
   "source": [
    "def generateGraph(n, x0, y0, r):\n",
    "    P, E = generateRandomGraph(n, x0, y0, r)\n",
    "    P0, _, P1, _ = subgraph(P, E)\n",
    "    while len(P1)>0:\n",
    "        (p, q) = nearest(P0, P1)\n",
    "        E.append((p, q))\n",
    "        P0, _, P1, _ = subgraph(P, E)\n",
    "    return P, E"
   ]
  },
  {
   "cell_type": "code",
   "execution_count": 9,
   "id": "dc980805-471b-423a-824a-1ee75fcc67ad",
   "metadata": {},
   "outputs": [
    {
     "data": {
      "image/png": "[encoded data removed]",
      "text/plain": [
       "<Figure size 600x600 with 1 Axes>"
      ]
     },
     "metadata": {},
     "output_type": "display_data"
    }
   ],
   "source": [
    "random.seed(42)\n",
    "V, E = generateRandomGraph(100, 5000, 5000, 4500)\n",
    "plotGraph(V, E)"
   ]
  },
  {
   "cell_type": "code",
   "execution_count": 10,
   "id": "190c8dc0-6260-41b7-9664-b23653c0b0ca",
   "metadata": {},
   "outputs": [
    {
     "data": {
      "image/png": "[encoded data removed]",
      "text/plain": [
       "<Figure size 600x600 with 1 Axes>"
      ]
     },
     "metadata": {},
     "output_type": "display_data"
    }
   ],
   "source": [
    "random.seed(42)\n",
    "V, E = generateGraph(100, 5000, 5000, 4500)\n",
    "plotGraph(V, E)"
   ]
  },
  {
   "cell_type": "code",
   "execution_count": 11,
   "id": "d29fac1a-40cd-4c47-8e1f-95ab2b6c5a41",
   "metadata": {},
   "outputs": [
    {
     "name": "stdout",
     "output_type": "stream",
     "text": [
      "Graph for seed 7000 has 200 vertices and 270 edges\n"
     ]
    },
    {
     "data": {
      "image/png": "[encoded data removed]",
      "text/plain": [
       "<Figure size 600x600 with 1 Axes>"
      ]
     },
     "metadata": {},
     "output_type": "display_data"
    },
    {
     "name": "stdout",
     "output_type": "stream",
     "text": [
      "Graph for seed 7001 has 200 vertices and 283 edges\n"
     ]
    },
    {
     "data": {
      "image/png": "[encoded data removed]",
      "text/plain": [
       "<Figure size 600x600 with 1 Axes>"
      ]
     },
     "metadata": {},
     "output_type": "display_data"
    },
    {
     "name": "stdout",
     "output_type": "stream",
     "text": [
      "Graph for seed 7002 has 200 vertices and 285 edges\n"
     ]
    },
    {
     "data": {
      "image/png": "[encoded data removed]",
      "text/plain": [
       "<Figure size 600x600 with 1 Axes>"
      ]
     },
     "metadata": {},
     "output_type": "display_data"
    },
    {
     "name": "stdout",
     "output_type": "stream",
     "text": [
      "Graph for seed 7003 has 200 vertices and 287 edges\n"
     ]
    },
    {
     "data": {
      "image/png": "[encoded data removed]",
      "text/plain": [
       "<Figure size 600x600 with 1 Axes>"
      ]
     },
     "metadata": {},
     "output_type": "display_data"
    },
    {
     "name": "stdout",
     "output_type": "stream",
     "text": [
      "Graph for seed 7004 has 200 vertices and 278 edges\n"
     ]
    },
    {
     "data": {
      "image/png": "[encoded data removed]",
      "text/plain": [
       "<Figure size 600x600 with 1 Axes>"
      ]
     },
     "metadata": {},
     "output_type": "display_data"
    }
   ],
   "source": [
    "for i in range(7000, 7005):\n",
    "    random.seed(i)\n",
    "    P, E = generateGraph(200, 4000, 4000, 4000)\n",
    "    print(\"Graph for seed\", i, \"has\", len(P), \"vertices and\", len(E), \"edges\")\n",
    "    plotGraph(P, E)\n",
    "    plt.show()"
   ]
  },
  {
   "cell_type": "markdown",
   "id": "853eb5e3",
   "metadata": {
    "hidden": true
   },
   "source": [
    "## Lists and Paths"
   ]
  },
  {
   "cell_type": "code",
   "execution_count": 12,
   "id": "ad4896a5",
   "metadata": {
    "ExecuteTime": {
     "end_time": "2023-07-04T11:55:30.278886Z",
     "start_time": "2023-07-04T11:55:30.276462Z"
    },
    "hidden": true
   },
   "outputs": [],
   "source": [
    "def pathLength(P):\n",
    "    return 0 if len(P)<=1 else \\\n",
    "            dist(P[0], P[1])+pathLength(P[1:])"
   ]
  },
  {
   "cell_type": "code",
   "execution_count": 13,
   "id": "77c6090b",
   "metadata": {
    "ExecuteTime": {
     "end_time": "2023-07-04T11:55:30.282666Z",
     "start_time": "2023-07-04T11:55:30.280335Z"
    },
    "hidden": true
   },
   "outputs": [],
   "source": [
    "def reverse(P):\n",
    "    return [ P[-i] for i in range(1,len(P)+1) ]"
   ]
  },
  {
   "cell_type": "code",
   "execution_count": 14,
   "id": "340c2745",
   "metadata": {
    "ExecuteTime": {
     "end_time": "2023-07-04T11:55:30.286330Z",
     "start_time": "2023-07-04T11:55:30.283948Z"
    },
    "hidden": true
   },
   "outputs": [],
   "source": [
    "def index(x, L):\n",
    "    for i in range(len(L)):\n",
    "        if x==L[i]: \n",
    "            return i\n",
    "    return None"
   ]
  },
  {
   "cell_type": "code",
   "execution_count": 15,
   "id": "cad61c30",
   "metadata": {
    "ExecuteTime": {
     "end_time": "2023-07-04T11:55:30.289827Z",
     "start_time": "2023-07-04T11:55:30.287641Z"
    },
    "hidden": true
   },
   "outputs": [],
   "source": [
    "def addWithoutDuplicates(L, X):\n",
    "    for i in range(len(X)):\n",
    "        if X[i] not in L:\n",
    "            L.append(X[i])\n",
    "    return L"
   ]
  },
  {
   "cell_type": "markdown",
   "id": "2e7ff6b1",
   "metadata": {
    "hidden": true
   },
   "source": [
    "## Generate Customer Locations"
   ]
  },
  {
   "cell_type": "code",
   "execution_count": 16,
   "id": "058a6093",
   "metadata": {
    "ExecuteTime": {
     "end_time": "2023-07-04T11:55:30.307975Z",
     "start_time": "2023-07-04T11:55:30.304505Z"
    },
    "hidden": true
   },
   "outputs": [],
   "source": [
    "def splitEdgeRandomly(V, E, s):\n",
    "    A, B = s\n",
    "    p = random.uniform(0.3,0.7)\n",
    "    x = int(A[0]+p*(B[0]-A[0]))\n",
    "    y = int(A[1]+p*(B[1]-A[1]))\n",
    "    t = (x,y)\n",
    "    E.remove(s) \n",
    "    E.append((A, t))\n",
    "    E.append((t, B))\n",
    "    V.append(t)\n",
    "    return (V, E), t"
   ]
  },
  {
   "cell_type": "code",
   "execution_count": 17,
   "id": "b2764b70",
   "metadata": {
    "ExecuteTime": {
     "end_time": "2023-07-04T11:55:30.312520Z",
     "start_time": "2023-07-04T11:55:30.309193Z"
    },
    "hidden": true
   },
   "outputs": [],
   "source": [
    "def generateRandomTargets(V, E, n=5):\n",
    "    V, E = V.copy(), E.copy()\n",
    "    T = []\n",
    "    # we want to ensure that the beginning of the \n",
    "    # sequence of points generated randomly stays\n",
    "    # the same\n",
    "    mindist = 300\n",
    "    while len(T)<n:\n",
    "        s = random.choice(E)\n",
    "        A, B = s\n",
    "        if dist(A,B)>mindist: # avoid targets placed narrowly\n",
    "            (V, E), t = splitEdgeRandomly(V, E, s)\n",
    "            T.append(t)\n",
    "    return sorted(T)"
   ]
  },
  {
   "cell_type": "code",
   "execution_count": 18,
   "id": "62e1f971-04ed-4cb9-b5f5-fd6c8c8e1ba6",
   "metadata": {},
   "outputs": [],
   "source": [
    "def addTargets(M, T):\n",
    "    V, E = M\n",
    "    E = E.copy()\n",
    "    V = V.copy()\n",
    "    for t in T:\n",
    "        minD = math.inf\n",
    "        minE = None\n",
    "        for e in E:\n",
    "            P, Q = e\n",
    "            distT = dist(P, t)+dist(t, Q)-dist(P, Q)\n",
    "            if distT < minD:\n",
    "                minD = distT\n",
    "                minE = e\n",
    "        P, Q = minE\n",
    "        E.remove( (P, Q) )\n",
    "        E.append( (P, t) )\n",
    "        E.append( (t, Q) )\n",
    "        V.append(t)\n",
    "    return V, E"
   ]
  },
  {
   "cell_type": "markdown",
   "id": "88070187-a40e-4f57-a69b-a88408b5593c",
   "metadata": {},
   "source": [
    "## Generate Warehouse Locations"
   ]
  },
  {
   "cell_type": "code",
   "execution_count": 19,
   "id": "2ac94a04-ecd7-47b7-a4c4-931642e60879",
   "metadata": {},
   "outputs": [],
   "source": [
    "def generateWarehouseLocation(M):\n",
    "    V, _ = M\n",
    "    W = random.sample(V, k=1)[0]\n",
    "    return W"
   ]
  },
  {
   "cell_type": "code",
   "execution_count": 20,
   "id": "e3194939-2cb4-4331-862e-cfaba9d45b98",
   "metadata": {},
   "outputs": [],
   "source": [
    "def generateWarehouseLocations(M, seed=None):\n",
    "    if seed is not None:\n",
    "        random.seed(seed)\n",
    "    V, _ = M\n",
    "    W = random.sample(V, k=len(V)//10)\n",
    "    return W"
   ]
  },
  {
   "cell_type": "markdown",
   "id": "268c5569",
   "metadata": {
    "hidden": true
   },
   "source": [
    "## Plot Map with Delivery Route"
   ]
  },
  {
   "cell_type": "code",
   "execution_count": 21,
   "id": "f2f4ff62",
   "metadata": {
    "ExecuteTime": {
     "end_time": "2023-07-04T11:55:30.319958Z",
     "start_time": "2023-07-04T11:55:30.314018Z"
    },
    "hidden": true
   },
   "outputs": [],
   "source": [
    "def plotMap(G, T=[], P=[], W=None,\n",
    "            style='r-o', lw=1, ms=3, \n",
    "            styleT='go', msT=5,\n",
    "            styleP='b-o', lwP=3, msP=1,\n",
    "            stylePT='go', msPT=7,\n",
    "            styleW='bo', msW=7,\n",
    "            text=None, grid=False):\n",
    "    fig = plt.gcf()\n",
    "    fig.set_size_inches(6, 6)\n",
    "    V, E = G\n",
    "\n",
    "    if not grid:\n",
    "        plt.axis('off')\n",
    "    plt.plot( [ p[0] for p in V ], [ p[1] for p in V ], 'ro', lw=lw, ms=ms)\n",
    "    for (p, q) in E:\n",
    "        plt.plot( [ p[0], q[0] ], [ p[1], q[1] ], 'r-o', lw=lw, ms=ms)\n",
    "    for t in T:\n",
    "        plt.plot( [ t[0] ], [ t[1] ], \n",
    "                  styleT, ms=msT)\n",
    "    plt.plot( [ p[0] for p in P ],\n",
    "              [ p[1] for p in P ], \n",
    "              styleP, lw=lwP, ms=msP)\n",
    "    for p in P:\n",
    "        if p in T:\n",
    "            plt.plot( [ p[0] ], [ p[1] ], \n",
    "                      stylePT, ms=msPT)\n",
    "    if W is not None:\n",
    "        plt.plot( [ W[0] ], [ W[1] ], \n",
    "                      styleW, ms=msW)\n",
    "    if text is not None:\n",
    "        minX = min([p[0] for p in V])\n",
    "        plt.text(minX, 0, text)\n",
    "    if grid:\n",
    "        plt.grid()\n",
    "    plt.show()"
   ]
  },
  {
   "cell_type": "markdown",
   "id": "0d5c12ac",
   "metadata": {
    "hidden": true
   },
   "source": [
    "## Generate Data"
   ]
  },
  {
   "cell_type": "code",
   "execution_count": 22,
   "id": "6158d92c",
   "metadata": {
    "ExecuteTime": {
     "end_time": "2023-07-04T11:55:30.328123Z",
     "start_time": "2023-07-04T11:55:30.321217Z"
    },
    "hidden": true
   },
   "outputs": [],
   "source": [
    "def generateData(seed=None, nodes=100, customers=150, \n",
    "                 plot=False, log=False):\n",
    "\n",
    "    if seed is None:\n",
    "\n",
    "        print(\"Usage:  M, C = generateData(seed=None, \")\n",
    "        print(\"                            nodes=100, customers=50, \")\n",
    "        print(\"                            plot=False, log=False)\")\n",
    "        print(\"\")\n",
    "        print(\"  seed  the seed value to be used for data generation. \")\n",
    "        print(\"        To test the application use seed=0, it will create\")\n",
    "        print(\"        a small map, with a very few customer locations and\")\n",
    "        print(\"        a small set of delivery data.\")\n",
    "        print(\"\")\n",
    "        print(\"  nodes the number of intersections (vertices) in the generated map\")\n",
    "        print(\"\")\n",
    "        print(\"  customers  the number of customers generated on the map\")\n",
    "        print(\"\")\n",
    "        print(\"  log   Controls print output during data generation.\")\n",
    "        print(\"\")\n",
    "        print(\"  plot  Controls graphical output during data generation.\")\n",
    "        print(\"\")\n",
    "        print(\"Returns:\")\n",
    "        print(\"\")\n",
    "        print(\"  M = (V, E) is the generated map given as a graph\")\n",
    "        print(\"    where V is a list of vertices, with each vertice \")\n",
    "        print(\"    given as a pair (x, y) of integer coordinates, \")\n",
    "        print(\"    and E is a list of edges, with each edge given\")\n",
    "        print(\"    as a pair (A, B) of vertices, with each vertex again\")\n",
    "        print(\"    given as a pair (x, y) of integer coordinates\")\n",
    "        print(\"\")\n",
    "        # print(\"  W ∈ V  is the location of the distribution warehouse\")\n",
    "        # print(\"    given as a pair (x, y) of integer coordinates\")\n",
    "        # print(\"\")\n",
    "        print(\"  C is a list of customer locations\")\n",
    "        print(\"    given as pairs (x, y) of integer coordinates on or near\")\n",
    "        print(\"    existing edges E. To integrate a set of customer locations\")\n",
    "        print(\"    into a given map M = (V, E), use addTarget(M, C)\")\n",
    "        print(\"\")\n",
    "        \n",
    "        seed = 0\n",
    "    \n",
    "    if seed==0:          # generate very simple test data \n",
    "        nodes = 20       # number of points in map\n",
    "        customers = 5    # number of  customers\n",
    "        grid = True\n",
    "            \n",
    "    else:\n",
    "        grid = False\n",
    "        \n",
    "    random.seed(seed)\n",
    "    \n",
    "    V, E = generateGraph(nodes, 4000, 4000, 4000)\n",
    "    \n",
    "    C = generateRandomTargets(V, E, customers)\n",
    "\n",
    "    if log:\n",
    "        print(f\"Generated map with {nodes:d} nodes and \" \n",
    "              f\"{customers:d} customer locations\")\n",
    "    if plot:\n",
    "        label=\"\" if seed==0 else f\"seed={seed:4d}\"\n",
    "        plotMap((V, E), T=C, text=label, grid=grid)\n",
    "    \n",
    "    return (V, E), C"
   ]
  },
  {
   "cell_type": "markdown",
   "id": "5d46ca18",
   "metadata": {
    "hidden": true
   },
   "source": [
    "Data Generation is reproducible"
   ]
  },
  {
   "cell_type": "code",
   "execution_count": 23,
   "id": "0dd70057",
   "metadata": {
    "ExecuteTime": {
     "end_time": "2023-07-04T11:55:30.446019Z",
     "start_time": "2023-07-04T11:55:30.329224Z"
    },
    "hidden": true
   },
   "outputs": [
    {
     "data": {
      "text/plain": [
       "True"
      ]
     },
     "execution_count": 23,
     "metadata": {},
     "output_type": "execute_result"
    }
   ],
   "source": [
    "D1 = generateData(1234)\n",
    "D2 = generateData(1234)\n",
    "D1 == D2"
   ]
  },
  {
   "cell_type": "markdown",
   "id": "55e44e50",
   "metadata": {},
   "source": [
    "# Generating Data"
   ]
  },
  {
   "cell_type": "markdown",
   "id": "eb2a82f1",
   "metadata": {},
   "source": [
    "This section demonstrates how you can generate the test data for the problem."
   ]
  },
  {
   "cell_type": "markdown",
   "id": "c6053dfa",
   "metadata": {},
   "source": [
    "## General Help Message"
   ]
  },
  {
   "cell_type": "markdown",
   "id": "d41f9809",
   "metadata": {},
   "source": [
    "If you use `generateData()` without any parameters you will get a general help message."
   ]
  },
  {
   "cell_type": "code",
   "execution_count": 24,
   "id": "a93a491b",
   "metadata": {
    "ExecuteTime": {
     "end_time": "2023-07-04T11:55:30.451621Z",
     "start_time": "2023-07-04T11:55:30.447303Z"
    }
   },
   "outputs": [
    {
     "name": "stdout",
     "output_type": "stream",
     "text": [
      "Usage:  M, C = generateData(seed=None, \n",
      "                            nodes=100, customers=50, \n",
      "                            plot=False, log=False)\n",
      "\n",
      "  seed  the seed value to be used for data generation. \n",
      "        To test the application use seed=0, it will create\n",
      "        a small map, with a very few customer locations and\n",
      "        a small set of delivery data.\n",
      "\n",
      "  nodes the number of intersections (vertices) in the generated map\n",
      "\n",
      "  customers  the number of customers generated on the map\n",
      "\n",
      "  log   Controls print output during data generation.\n",
      "\n",
      "  plot  Controls graphical output during data generation.\n",
      "\n",
      "Returns:\n",
      "\n",
      "  M = (V, E) is the generated map given as a graph\n",
      "    where V is a list of vertices, with each vertice \n",
      "    given as a pair (x, y) of integer coordinates, \n",
      "    and E is a list of edges, with each edge given\n",
      "    as a pair (A, B) of vertices, with each vertex again\n",
      "    given as a pair (x, y) of integer coordinates\n",
      "\n",
      "  C is a list of customer locations\n",
      "    given as pairs (x, y) of integer coordinates on or near\n",
      "    existing edges E. To integrate a set of customer locations\n",
      "    into a given map M = (V, E), use addTarget(M, C)\n",
      "\n"
     ]
    }
   ],
   "source": [
    "M, C = generateData()"
   ]
  },
  {
   "cell_type": "markdown",
   "id": "1a082b84",
   "metadata": {},
   "source": [
    "## Analysing Simple Test Data"
   ]
  },
  {
   "cell_type": "markdown",
   "id": "e62768fa",
   "metadata": {},
   "source": [
    "This section illustrates the data structure generated."
   ]
  },
  {
   "cell_type": "code",
   "execution_count": 25,
   "id": "4e31f76a",
   "metadata": {
    "ExecuteTime": {
     "end_time": "2023-07-04T11:55:30.580237Z",
     "start_time": "2023-07-04T11:55:30.452866Z"
    }
   },
   "outputs": [
    {
     "name": "stdout",
     "output_type": "stream",
     "text": [
      "Generated map with 20 nodes and 5 customer locations\n"
     ]
    },
    {
     "data": {
      "image/png": "[encoded data removed]",
      "text/plain": [
       "<Figure size 600x600 with 1 Axes>"
      ]
     },
     "metadata": {},
     "output_type": "display_data"
    }
   ],
   "source": [
    "sampleData = generateData(seed=0, log=True, plot=True)"
   ]
  },
  {
   "cell_type": "code",
   "execution_count": 26,
   "id": "267d75d0",
   "metadata": {
    "ExecuteTime": {
     "end_time": "2023-07-04T11:55:30.585775Z",
     "start_time": "2023-07-04T11:55:30.581868Z"
    }
   },
   "outputs": [],
   "source": [
    "import pickle\n",
    "with open('sampleData.pickled', 'wb') as f:\n",
    "    pickle.dump(sampleData, f)"
   ]
  },
  {
   "cell_type": "code",
   "execution_count": 27,
   "id": "ec36f565",
   "metadata": {
    "ExecuteTime": {
     "end_time": "2023-07-04T11:55:30.589162Z",
     "start_time": "2023-07-04T11:55:30.587097Z"
    }
   },
   "outputs": [],
   "source": [
    "M, C = sampleData"
   ]
  },
  {
   "cell_type": "markdown",
   "id": "598c0540",
   "metadata": {},
   "source": [
    "### The Graph"
   ]
  },
  {
   "cell_type": "markdown",
   "id": "6f517000",
   "metadata": {},
   "source": [
    "You can identify the points in the grid above. The vertices of the graph are:"
   ]
  },
  {
   "cell_type": "code",
   "execution_count": 28,
   "id": "1505220e",
   "metadata": {
    "ExecuteTime": {
     "end_time": "2023-07-04T11:55:30.593631Z",
     "start_time": "2023-07-04T11:55:30.590366Z"
    }
   },
   "outputs": [
    {
     "data": {
      "text/plain": [
       "[(1500, 2750),\n",
       " (1500, 4000),\n",
       " (1500, 5250),\n",
       " (1500, 6500),\n",
       " (2750, 1500),\n",
       " (2750, 4000),\n",
       " (2750, 5250),\n",
       " (2750, 6500),\n",
       " (4000, 1500),\n",
       " (4000, 2750),\n",
       " (4000, 4000),\n",
       " (4000, 5250),\n",
       " (5250, 1500),\n",
       " (5250, 2750),\n",
       " (5250, 4000),\n",
       " (5250, 6500),\n",
       " (6500, 1500),\n",
       " (6500, 2750),\n",
       " (6500, 4000),\n",
       " (6500, 6500)]"
      ]
     },
     "execution_count": 28,
     "metadata": {},
     "output_type": "execute_result"
    }
   ],
   "source": [
    "V, E = M\n",
    "V"
   ]
  },
  {
   "cell_type": "markdown",
   "id": "e4246e46-1a4b-4ee6-96a7-f69198aa41a9",
   "metadata": {},
   "source": [
    "The edges of the graph are:"
   ]
  },
  {
   "cell_type": "code",
   "execution_count": 29,
   "id": "d39b1069",
   "metadata": {
    "ExecuteTime": {
     "end_time": "2023-07-04T11:55:30.598693Z",
     "start_time": "2023-07-04T11:55:30.594671Z"
    }
   },
   "outputs": [
    {
     "data": {
      "text/plain": [
       "[((1500, 2750), (1500, 4000)),\n",
       " ((1500, 2750), (2750, 1500)),\n",
       " ((1500, 4000), (2750, 4000)),\n",
       " ((1500, 5250), (1500, 4000)),\n",
       " ((1500, 5250), (1500, 6500)),\n",
       " ((2750, 5250), (1500, 5250)),\n",
       " ((2750, 5250), (2750, 4000)),\n",
       " ((2750, 5250), (2750, 6500)),\n",
       " ((2750, 6500), (1500, 6500)),\n",
       " ((4000, 1500), (2750, 1500)),\n",
       " ((4000, 2750), (4000, 1500)),\n",
       " ((4000, 4000), (2750, 4000)),\n",
       " ((4000, 4000), (4000, 2750)),\n",
       " ((4000, 4000), (4000, 5250)),\n",
       " ((4000, 4000), (5250, 4000)),\n",
       " ((4000, 5250), (2750, 5250)),\n",
       " ((4000, 5250), (5250, 6500)),\n",
       " ((5250, 1500), (4000, 1500)),\n",
       " ((5250, 1500), (6500, 1500)),\n",
       " ((5250, 2750), (4000, 2750)),\n",
       " ((5250, 2750), (5250, 1500)),\n",
       " ((5250, 2750), (5250, 4000)),\n",
       " ((5250, 2750), (6500, 2750)),\n",
       " ((5250, 4000), (6500, 4000)),\n",
       " ((6500, 2750), (6500, 1500)),\n",
       " ((6500, 2750), (6500, 4000)),\n",
       " ((6500, 6500), (5250, 6500))]"
      ]
     },
     "execution_count": 29,
     "metadata": {},
     "output_type": "execute_result"
    }
   ],
   "source": [
    "E"
   ]
  },
  {
   "cell_type": "markdown",
   "id": "a7ff4dc0",
   "metadata": {},
   "source": [
    "### Customer Addresses"
   ]
  },
  {
   "cell_type": "markdown",
   "id": "28e950b3",
   "metadata": {},
   "source": [
    "The customer addresses (green dots in the map) are:"
   ]
  },
  {
   "cell_type": "code",
   "execution_count": 30,
   "id": "e229adea",
   "metadata": {
    "ExecuteTime": {
     "end_time": "2023-07-04T11:55:30.602368Z",
     "start_time": "2023-07-04T11:55:30.599817Z"
    }
   },
   "outputs": [
    {
     "data": {
      "text/plain": [
       "[(1500, 5780), (1500, 6192), (4654, 5904), (6500, 2338), (6500, 3425)]"
      ]
     },
     "execution_count": 30,
     "metadata": {},
     "output_type": "execute_result"
    }
   ],
   "source": [
    "C"
   ]
  },
  {
   "cell_type": "markdown",
   "id": "e32c2004-c3f4-444a-87a7-8c530245597f",
   "metadata": {},
   "source": [
    "### The Warehouse Address"
   ]
  },
  {
   "cell_type": "markdown",
   "id": "f02183fc-037c-42e3-9ba6-394786ce6716",
   "metadata": {},
   "source": [
    "Warehouses should be located on or near an intersection on the map.\n",
    "To generate a warehouse address use:"
   ]
  },
  {
   "cell_type": "code",
   "execution_count": 31,
   "id": "b5f31a7e-1f32-4f13-b700-7a8fea2c9e17",
   "metadata": {},
   "outputs": [],
   "source": [
    "W = generateWarehouseLocation(M)"
   ]
  },
  {
   "cell_type": "code",
   "execution_count": 32,
   "id": "83da3df2-7f7f-4855-9ad3-bbb2cf637b9a",
   "metadata": {},
   "outputs": [
    {
     "data": {
      "text/plain": [
       "(4000, 5250)"
      ]
     },
     "execution_count": 32,
     "metadata": {},
     "output_type": "execute_result"
    }
   ],
   "source": [
    "W"
   ]
  },
  {
   "cell_type": "code",
   "execution_count": 33,
   "id": "501b96c9-f3df-4409-a7a5-d34042956c00",
   "metadata": {},
   "outputs": [
    {
     "data": {
      "image/png": "[encoded data removed]",
      "text/plain": [
       "<Figure size 600x600 with 1 Axes>"
      ]
     },
     "metadata": {},
     "output_type": "display_data"
    }
   ],
   "source": [
    "plotMap((V, E), T=C, W=W)"
   ]
  },
  {
   "cell_type": "markdown",
   "id": "976ca9d4",
   "metadata": {},
   "source": [
    "## My Data"
   ]
  },
  {
   "cell_type": "markdown",
   "id": "f7f8d163",
   "metadata": {},
   "source": [
    "This section shows sample data as you you may get them for your required simulation. "
   ]
  },
  {
   "cell_type": "markdown",
   "id": "b7bdb541",
   "metadata": {},
   "source": [
    "Save sample data as pickle file:"
   ]
  },
  {
   "cell_type": "code",
   "execution_count": 34,
   "id": "c643e76f-6d01-410e-9890-2cac8b13b0c8",
   "metadata": {},
   "outputs": [
    {
     "name": "stdout",
     "output_type": "stream",
     "text": [
      "Generated map with 100 nodes and 150 customer locations\n"
     ]
    },
    {
     "data": {
      "image/png": "[encoded data removed]",
      "text/plain": [
       "<Figure size 600x600 with 1 Axes>"
      ]
     },
     "metadata": {},
     "output_type": "display_data"
    }
   ],
   "source": [
    "BolormaaData = generateData(6725, plot=True, log=True)"
   ]
  },
  {
   "cell_type": "code",
   "execution_count": 35,
   "id": "c325f014-bc4a-4afc-b8db-3dbf00bc208a",
   "metadata": {},
   "outputs": [],
   "source": [
    "import pickle\n",
    "with open('BolormaaData.pickled', 'wb') as f:\n",
    "    pickle.dump(BolormaaData, f)"
   ]
  },
  {
   "cell_type": "code",
   "execution_count": 36,
   "id": "c5c1d7eb",
   "metadata": {
    "ExecuteTime": {
     "end_time": "2023-07-04T12:55:17.629724Z",
     "start_time": "2023-07-04T12:55:17.416826Z"
    }
   },
   "outputs": [
    {
     "name": "stdout",
     "output_type": "stream",
     "text": [
      "Generated map with 40 nodes and 20 customer locations\n"
     ]
    },
    {
     "data": {
      "image/png": "[encoded data removed]",
      "text/plain": [
       "<Figure size 600x600 with 1 Axes>"
      ]
     },
     "metadata": {},
     "output_type": "display_data"
    }
   ],
   "source": [
    "xData = generateData(6725, nodes=40, customers=20, plot=True, log=True)"
   ]
  },
  {
   "cell_type": "code",
   "execution_count": 37,
   "id": "3b7da9c5",
   "metadata": {
    "ExecuteTime": {
     "end_time": "2023-07-04T11:55:31.185816Z",
     "start_time": "2023-07-04T11:55:31.182490Z"
    }
   },
   "outputs": [],
   "source": [
    "import pickle\n",
    "with open('xData.pickled', 'wb') as f:\n",
    "    pickle.dump(xData, f)"
   ]
  },
  {
   "cell_type": "code",
   "execution_count": 38,
   "id": "5a553334-1c06-419c-8cbf-100719708e92",
   "metadata": {},
   "outputs": [],
   "source": [
    "M, C = BolormaaData"
   ]
  },
  {
   "cell_type": "markdown",
   "id": "754e6596-614f-40cc-a52c-fc8690d31af0",
   "metadata": {},
   "source": [
    "### My graph"
   ]
  },
  {
   "cell_type": "markdown",
   "id": "e0141c8f-3e69-42f0-98ea-45f5cb8f9202",
   "metadata": {},
   "source": [
    "Vertices of my graph:"
   ]
  },
  {
   "cell_type": "code",
   "execution_count": 39,
   "id": "0636defe-55d0-43f6-b4cf-daf3a808df49",
   "metadata": {},
   "outputs": [
    {
     "data": {
      "text/plain": [
       "[(640, 2320),\n",
       " (640, 2880),\n",
       " (640, 3440),\n",
       " (640, 4560),\n",
       " (640, 5120),\n",
       " (640, 5680),\n",
       " (1200, 1760),\n",
       " (1200, 2320),\n",
       " (1200, 3440),\n",
       " (1200, 5120),\n",
       " (1200, 5680),\n",
       " (1200, 6240),\n",
       " (1760, 1200),\n",
       " (1760, 1760),\n",
       " (1760, 2880),\n",
       " (1760, 3440),\n",
       " (1760, 4000),\n",
       " (1760, 5120),\n",
       " (1760, 5680),\n",
       " (1760, 6800),\n",
       " (2320, 1200),\n",
       " (2320, 1760),\n",
       " (2320, 2320),\n",
       " (2320, 2880),\n",
       " (2320, 3440),\n",
       " (2320, 4000),\n",
       " (2320, 4560),\n",
       " (2320, 6240),\n",
       " (2320, 6800),\n",
       " (2320, 7360),\n",
       " (2880, 1200),\n",
       " (2880, 2320),\n",
       " (2880, 2880),\n",
       " (2880, 4560),\n",
       " (2880, 5120),\n",
       " (2880, 5680),\n",
       " (2880, 6240),\n",
       " (2880, 6800),\n",
       " (2880, 7360),\n",
       " (3440, 640),\n",
       " (3440, 1200),\n",
       " (3440, 2320),\n",
       " (3440, 2880),\n",
       " (3440, 3440),\n",
       " (3440, 4000),\n",
       " (3440, 4560),\n",
       " (3440, 5120),\n",
       " (3440, 5680),\n",
       " (3440, 6240),\n",
       " (4000, 640),\n",
       " (4000, 1760),\n",
       " (4000, 2320),\n",
       " (4000, 3440),\n",
       " (4000, 4560),\n",
       " (4000, 6240),\n",
       " (4000, 6800),\n",
       " (4000, 7360),\n",
       " (4560, 1200),\n",
       " (4560, 2320),\n",
       " (4560, 2880),\n",
       " (4560, 4560),\n",
       " (4560, 5680),\n",
       " (4560, 6240),\n",
       " (4560, 6800),\n",
       " (4560, 7360),\n",
       " (5120, 2320),\n",
       " (5120, 2880),\n",
       " (5120, 3440),\n",
       " (5120, 4000),\n",
       " (5120, 5120),\n",
       " (5120, 6240),\n",
       " (5120, 6800),\n",
       " (5120, 7360),\n",
       " (5680, 640),\n",
       " (5680, 1760),\n",
       " (5680, 2320),\n",
       " (5680, 2880),\n",
       " (5680, 3440),\n",
       " (5680, 4000),\n",
       " (5680, 4560),\n",
       " (5680, 5120),\n",
       " (5680, 6240),\n",
       " (5680, 6800),\n",
       " (5680, 7360),\n",
       " (6240, 1760),\n",
       " (6240, 2320),\n",
       " (6240, 2880),\n",
       " (6240, 3440),\n",
       " (6240, 5680),\n",
       " (6240, 6240),\n",
       " (6240, 6800),\n",
       " (6800, 1760),\n",
       " (6800, 2880),\n",
       " (6800, 3440),\n",
       " (6800, 5120),\n",
       " (6800, 5680),\n",
       " (7360, 3440),\n",
       " (7360, 4560),\n",
       " (7360, 5120),\n",
       " (7360, 5680)]"
      ]
     },
     "execution_count": 39,
     "metadata": {},
     "output_type": "execute_result"
    }
   ],
   "source": [
    "V, E = M\n",
    "V"
   ]
  },
  {
   "cell_type": "markdown",
   "id": "0313235e-adb3-4916-b3c6-2ae29bcf9548",
   "metadata": {},
   "source": [
    "Edges of my graph:"
   ]
  },
  {
   "cell_type": "code",
   "execution_count": 40,
   "id": "0964b8c4-1564-4145-8217-1e1a76ec5e80",
   "metadata": {},
   "outputs": [
    {
     "data": {
      "text/plain": [
       "[((640, 2880), (640, 2320)),\n",
       " ((640, 2880), (640, 3440)),\n",
       " ((640, 4560), (640, 5120)),\n",
       " ((640, 5680), (640, 5120)),\n",
       " ((1200, 1760), (1200, 2320)),\n",
       " ((1200, 1760), (1760, 1760)),\n",
       " ((1200, 2320), (640, 2320)),\n",
       " ((1200, 2320), (1760, 2880)),\n",
       " ((1200, 3440), (640, 3440)),\n",
       " ((1200, 5120), (640, 5120)),\n",
       " ((1200, 5680), (640, 5680)),\n",
       " ((1200, 5680), (1200, 5120)),\n",
       " ((1200, 6240), (1200, 5680)),\n",
       " ((1200, 6240), (1760, 6800)),\n",
       " ((1760, 1760), (1760, 1200)),\n",
       " ((1760, 1760), (2320, 1760)),\n",
       " ((1760, 3440), (1200, 3440)),\n",
       " ((1760, 3440), (1760, 2880)),\n",
       " ((1760, 3440), (1760, 4000)),\n",
       " ((1760, 4000), (2320, 4000)),\n",
       " ((1760, 5120), (1200, 5120)),\n",
       " ((1760, 5680), (1200, 5680)),\n",
       " ((1760, 5680), (1760, 5120)),\n",
       " ((1760, 5680), (2320, 6240)),\n",
       " ((1760, 6800), (2320, 6800)),\n",
       " ((2320, 1200), (1760, 1200)),\n",
       " ((2320, 1200), (2320, 1760)),\n",
       " ((2320, 1200), (2880, 1200)),\n",
       " ((2320, 1760), (2320, 2320)),\n",
       " ((2320, 2880), (1760, 2880)),\n",
       " ((2320, 2880), (2320, 2320)),\n",
       " ((2320, 2880), (2320, 3440)),\n",
       " ((2320, 2880), (2880, 2880)),\n",
       " ((2320, 3440), (1760, 3440)),\n",
       " ((2320, 3440), (2320, 4000)),\n",
       " ((2320, 4560), (1760, 5120)),\n",
       " ((2320, 4560), (2320, 4000)),\n",
       " ((2320, 6240), (2320, 6800)),\n",
       " ((2320, 7360), (2320, 6800)),\n",
       " ((2880, 2320), (2320, 2320)),\n",
       " ((2880, 2880), (2880, 2320)),\n",
       " ((2880, 4560), (2320, 4560)),\n",
       " ((2880, 5120), (2880, 4560)),\n",
       " ((2880, 5120), (3440, 5120)),\n",
       " ((2880, 5680), (2880, 5120)),\n",
       " ((2880, 5680), (2880, 6240)),\n",
       " ((2880, 5680), (3440, 5680)),\n",
       " ((2880, 6240), (2320, 6240)),\n",
       " ((2880, 6240), (2880, 6800)),\n",
       " ((2880, 6240), (3440, 6240)),\n",
       " ((2880, 6800), (2320, 6800)),\n",
       " ((2880, 7360), (2320, 7360)),\n",
       " ((2880, 7360), (2880, 6800)),\n",
       " ((3440, 640), (3440, 1200)),\n",
       " ((3440, 1200), (2880, 1200)),\n",
       " ((3440, 2320), (2880, 2320)),\n",
       " ((3440, 2320), (4000, 2320)),\n",
       " ((3440, 2880), (2880, 2880)),\n",
       " ((3440, 2880), (3440, 2320)),\n",
       " ((3440, 2880), (3440, 3440)),\n",
       " ((3440, 3440), (3440, 4000)),\n",
       " ((3440, 3440), (4000, 3440)),\n",
       " ((3440, 4560), (2880, 4560)),\n",
       " ((3440, 4560), (3440, 4000)),\n",
       " ((3440, 4560), (3440, 5120)),\n",
       " ((3440, 4560), (4000, 4560)),\n",
       " ((3440, 5680), (3440, 5120)),\n",
       " ((3440, 6240), (3440, 5680)),\n",
       " ((3440, 6240), (4000, 6240)),\n",
       " ((4000, 640), (3440, 640)),\n",
       " ((4000, 1760), (3440, 1200)),\n",
       " ((4000, 1760), (4000, 2320)),\n",
       " ((4000, 3440), (4560, 2880)),\n",
       " ((4000, 4560), (4560, 4560)),\n",
       " ((4000, 6800), (4000, 6240)),\n",
       " ((4000, 7360), (4000, 6800)),\n",
       " ((4000, 7360), (4560, 7360)),\n",
       " ((4560, 1200), (4000, 640)),\n",
       " ((4560, 1200), (4000, 1760)),\n",
       " ((4560, 2320), (4000, 2320)),\n",
       " ((4560, 2880), (4560, 2320)),\n",
       " ((4560, 2880), (5120, 2880)),\n",
       " ((4560, 5680), (5120, 5120)),\n",
       " ((4560, 6240), (4000, 6240)),\n",
       " ((4560, 6240), (4560, 5680)),\n",
       " ((4560, 6240), (4560, 6800)),\n",
       " ((4560, 6240), (5120, 6240)),\n",
       " ((4560, 6800), (4000, 6800)),\n",
       " ((4560, 6800), (4560, 7360)),\n",
       " ((4560, 6800), (5120, 6800)),\n",
       " ((5120, 2320), (4560, 2320)),\n",
       " ((5120, 2320), (5120, 2880)),\n",
       " ((5120, 2320), (5680, 2320)),\n",
       " ((5120, 3440), (5120, 2880)),\n",
       " ((5120, 3440), (5120, 4000)),\n",
       " ((5120, 3440), (5680, 3440)),\n",
       " ((5120, 4000), (4560, 4560)),\n",
       " ((5120, 4000), (5680, 4000)),\n",
       " ((5120, 5120), (4560, 4560)),\n",
       " ((5120, 5120), (5680, 5120)),\n",
       " ((5120, 6240), (5120, 6800)),\n",
       " ((5120, 7360), (4560, 7360)),\n",
       " ((5120, 7360), (5120, 6800)),\n",
       " ((5120, 7360), (5680, 7360)),\n",
       " ((5680, 2320), (5680, 1760)),\n",
       " ((5680, 2880), (5120, 2880)),\n",
       " ((5680, 2880), (5680, 2320)),\n",
       " ((5680, 2880), (5680, 3440)),\n",
       " ((5680, 2880), (6240, 2880)),\n",
       " ((5680, 3440), (5680, 4000)),\n",
       " ((5680, 4560), (5680, 4000)),\n",
       " ((5680, 4560), (5680, 5120)),\n",
       " ((5680, 5120), (6240, 5680)),\n",
       " ((5680, 6240), (5120, 6240)),\n",
       " ((5680, 6240), (5680, 6800)),\n",
       " ((5680, 6240), (6240, 6240)),\n",
       " ((5680, 6800), (5120, 6800)),\n",
       " ((5680, 7360), (5680, 6800)),\n",
       " ((6240, 1760), (5680, 1760)),\n",
       " ((6240, 2320), (5680, 2320)),\n",
       " ((6240, 2320), (6240, 1760)),\n",
       " ((6240, 2320), (6240, 2880)),\n",
       " ((6240, 2880), (6800, 2880)),\n",
       " ((6240, 3440), (5680, 3440)),\n",
       " ((6240, 3440), (6240, 2880)),\n",
       " ((6240, 3440), (6800, 3440)),\n",
       " ((6240, 6240), (6240, 5680)),\n",
       " ((6240, 6240), (6240, 6800)),\n",
       " ((6240, 6800), (5680, 6800)),\n",
       " ((6800, 1760), (6240, 1760)),\n",
       " ((6800, 3440), (6800, 2880)),\n",
       " ((6800, 5120), (7360, 5120)),\n",
       " ((6800, 5680), (6240, 5680)),\n",
       " ((6800, 5680), (6800, 5120)),\n",
       " ((6800, 5680), (7360, 5680)),\n",
       " ((7360, 3440), (6800, 3440)),\n",
       " ((7360, 4560), (7360, 5120)),\n",
       " ((7360, 5120), (7360, 5680)),\n",
       " ((5680, 1760), (5680, 640))]"
      ]
     },
     "execution_count": 40,
     "metadata": {},
     "output_type": "execute_result"
    }
   ],
   "source": [
    "E"
   ]
  },
  {
   "cell_type": "markdown",
   "id": "23dafc94-ef63-42da-b15e-38e35ac505ec",
   "metadata": {},
   "source": [
    "### My customer addresses"
   ]
  },
  {
   "cell_type": "markdown",
   "id": "ea2065f8-8416-4850-acca-2c6f345be499",
   "metadata": {},
   "source": [
    "The customer addresses (green dots in the map) are:"
   ]
  },
  {
   "cell_type": "code",
   "execution_count": 41,
   "id": "6b4b1230-f4ce-413b-81d8-86a43df61235",
   "metadata": {},
   "outputs": [
    {
     "data": {
      "text/plain": [
       "[(640, 2572),\n",
       " (640, 4777),\n",
       " (640, 4940),\n",
       " (640, 5395),\n",
       " (820, 5120),\n",
       " (899, 3440),\n",
       " (962, 5120),\n",
       " (1020, 2320),\n",
       " (1200, 1934),\n",
       " (1200, 5253),\n",
       " (1200, 5465),\n",
       " (1200, 5892),\n",
       " (1200, 6005),\n",
       " (1403, 5120),\n",
       " (1484, 6524),\n",
       " (1489, 2609),\n",
       " (1492, 1760),\n",
       " (1569, 5120),\n",
       " (1607, 2727),\n",
       " (1760, 1369),\n",
       " (1760, 1566),\n",
       " (1760, 3636),\n",
       " (1760, 3810),\n",
       " (1937, 4942),\n",
       " (1940, 4000),\n",
       " (1956, 6800),\n",
       " (1990, 2880),\n",
       " (2000, 3440),\n",
       " (2054, 1200),\n",
       " (2136, 6800),\n",
       " (2167, 4000),\n",
       " (2217, 2880),\n",
       " (2320, 1326),\n",
       " (2320, 1585),\n",
       " (2320, 1960),\n",
       " (2320, 2538),\n",
       " (2320, 3049),\n",
       " (2320, 3200),\n",
       " (2320, 3672),\n",
       " (2320, 3810),\n",
       " (2320, 6417),\n",
       " (2320, 7188),\n",
       " (2470, 4560),\n",
       " (2531, 2320),\n",
       " (2549, 1200),\n",
       " (2632, 7360),\n",
       " (2642, 6240),\n",
       " (2673, 4560),\n",
       " (2701, 2320),\n",
       " (2880, 2424),\n",
       " (2880, 2660),\n",
       " (2880, 4776),\n",
       " (2880, 4965),\n",
       " (2880, 6470),\n",
       " (3009, 5120),\n",
       " (3064, 5680),\n",
       " (3080, 2880),\n",
       " (3080, 6240),\n",
       " (3092, 2320),\n",
       " (3142, 1200),\n",
       " (3195, 5120),\n",
       " (3232, 2880),\n",
       " (3250, 2320),\n",
       " (3258, 6240),\n",
       " (3265, 5680),\n",
       " (3440, 820),\n",
       " (3440, 2524),\n",
       " (3440, 2680),\n",
       " (3440, 3267),\n",
       " (3440, 3757),\n",
       " (3440, 4266),\n",
       " (3440, 4904),\n",
       " (3440, 5419),\n",
       " (3440, 5866),\n",
       " (3440, 6014),\n",
       " (3573, 640),\n",
       " (3611, 4560),\n",
       " (3617, 2320),\n",
       " (3661, 1421),\n",
       " (3734, 3440),\n",
       " (3783, 4560),\n",
       " (3814, 640),\n",
       " (3828, 6240),\n",
       " (4000, 2003),\n",
       " (4000, 2171),\n",
       " (4000, 7024),\n",
       " (4168, 6240),\n",
       " (4168, 7360),\n",
       " (4179, 1580),\n",
       " (4251, 4560),\n",
       " (4288, 7360),\n",
       " (4291, 6800),\n",
       " (4301, 3138),\n",
       " (4310, 1449),\n",
       " (4327, 2320),\n",
       " (4343, 6240),\n",
       " (4379, 3059),\n",
       " (4560, 2554),\n",
       " (4560, 2737),\n",
       " (4560, 5901),\n",
       " (4560, 6003),\n",
       " (4560, 7173),\n",
       " (4667, 2880),\n",
       " (4732, 4387),\n",
       " (4771, 7360),\n",
       " (4800, 6240),\n",
       " (4888, 2880),\n",
       " (4940, 4940),\n",
       " (4950, 6240),\n",
       " (5120, 2605),\n",
       " (5120, 6483),\n",
       " (5120, 6580),\n",
       " (5120, 6943),\n",
       " (5120, 7181),\n",
       " (5288, 2880),\n",
       " (5300, 4000),\n",
       " (5348, 5120),\n",
       " (5380, 7360),\n",
       " (5408, 3440),\n",
       " (5479, 4000),\n",
       " (5503, 2880),\n",
       " (5680, 2099),\n",
       " (5680, 2537),\n",
       " (5680, 2720),\n",
       " (5680, 3734),\n",
       " (5680, 4280),\n",
       " (5680, 4762),\n",
       " (5680, 4929),\n",
       " (5680, 6482),\n",
       " (5871, 1760),\n",
       " (5883, 6800),\n",
       " (5926, 3440),\n",
       " (6020, 2880),\n",
       " (6049, 1760),\n",
       " (6240, 2030),\n",
       " (6240, 2995),\n",
       " (6240, 3243),\n",
       " (6240, 5902),\n",
       " (6240, 6045),\n",
       " (6240, 6440),\n",
       " (6429, 2880),\n",
       " (6432, 5680),\n",
       " (6443, 1760),\n",
       " (6571, 3440),\n",
       " (6586, 5680),\n",
       " (6800, 5347),\n",
       " (7069, 5120),\n",
       " (7360, 4754),\n",
       " (7360, 4865),\n",
       " (7360, 5344)]"
      ]
     },
     "execution_count": 41,
     "metadata": {},
     "output_type": "execute_result"
    }
   ],
   "source": [
    "C"
   ]
  },
  {
   "cell_type": "markdown",
   "id": "813bc3a0-3ac7-484a-a542-8de5609f95bf",
   "metadata": {},
   "source": [
    "### My warehouse address"
   ]
  },
  {
   "cell_type": "markdown",
   "id": "a5542795-0491-4b85-a8ad-4408698e16c8",
   "metadata": {},
   "source": [
    "Warehouses should be located on or near an intersection on the map."
   ]
  },
  {
   "cell_type": "code",
   "execution_count": 42,
   "id": "33ef1c8c-0400-4430-839c-15f3f761da54",
   "metadata": {},
   "outputs": [],
   "source": [
    "W = generateWarehouseLocations(M)"
   ]
  },
  {
   "cell_type": "code",
   "execution_count": 46,
   "id": "33353647-a3a7-4258-a993-36690d0ae014",
   "metadata": {},
   "outputs": [
    {
     "data": {
      "text/plain": [
       "[(2880, 5120),\n",
       " (1200, 5680),\n",
       " (5680, 2880),\n",
       " (6240, 3440),\n",
       " (4000, 640),\n",
       " (640, 2880),\n",
       " (3440, 2880),\n",
       " (4560, 1200),\n",
       " (3440, 640),\n",
       " (6800, 1760)]"
      ]
     },
     "execution_count": 46,
     "metadata": {},
     "output_type": "execute_result"
    }
   ],
   "source": [
    "W"
   ]
  },
  {
   "cell_type": "code",
   "execution_count": 48,
   "id": "a9c5e212-cf26-48fc-9bee-04c5a97f7d1f",
   "metadata": {},
   "outputs": [
    {
     "data": {
      "image/png": "[encoded data removed]",
      "text/plain": [
       "<Figure size 600x600 with 1 Axes>"
      ]
     },
     "metadata": {},
     "output_type": "display_data"
    }
   ],
   "source": [
    "def plotMap(G, T=[], P=[], W=[], style='r-o', lw=1, ms=3, styleT='go', msT=5, styleP='b-o', lwP=3, msP=1, stylePT='go', msPT=7, styleW='bo', msW=7, text=None, grid=False):\n",
    "    fig = plt.gcf()\n",
    "    fig.set_size_inches(6, 6)\n",
    "    V, E = G\n",
    "\n",
    "    if not grid:\n",
    "        plt.axis('off')\n",
    "    \n",
    "    # Plot vertices and edges\n",
    "    plt.plot([p[0] for p in V], [p[1] for p in V], 'ro', lw=lw, ms=ms)\n",
    "    for (p, q) in E:\n",
    "        plt.plot([p[0], q[0]], [p[1], q[1]], 'r-o', lw=lw, ms=ms)\n",
    "    \n",
    "    # Plot targets\n",
    "    for t in T:\n",
    "        plt.plot([t[0]], [t[1]], styleT, ms=msT)\n",
    "    \n",
    "    # Plot paths\n",
    "    plt.plot([p[0] for p in P], [p[1] for p in P], styleP, lw=lwP, ms=msP)\n",
    "    for p in P:\n",
    "        if p in T:\n",
    "            plt.plot([p[0]], [p[1]], stylePT, ms=msPT)\n",
    "    \n",
    "    # Plot warehouse locations\n",
    "    for w in W:\n",
    "        plt.plot([w[0]], [w[1]], styleW, ms=msW)\n",
    "    \n",
    "    if text is not None:\n",
    "        maxX = max([p[0] for p in V])\n",
    "        plt.text(0.8*maxX, 0, text)\n",
    "    \n",
    "    if grid:\n",
    "        plt.grid()\n",
    "    \n",
    "    plt.show()\n",
    "\n",
    "# Call the plotMap function with the warehouse locations\n",
    "plotMap((V, E), T=C, W=W)\n"
   ]
  },
  {
   "cell_type": "code",
   "execution_count": null,
   "id": "2038724a-3288-4602-a999-50418064089e",
   "metadata": {},
   "outputs": [],
   "source": []
  },
  {
   "cell_type": "code",
   "execution_count": null,
   "id": "8e939b6a-579f-48c2-9b6b-a8977a62d305",
   "metadata": {},
   "outputs": [],
   "source": []
  }
 ],
 "metadata": {
  "kernelspec": {
   "display_name": "Python 3 (ipykernel)",
   "language": "python",
   "name": "python3"
  },
  "language_info": {
   "codemirror_mode": {
    "name": "ipython",
    "version": 3
   },
   "file_extension": ".py",
   "mimetype": "text/x-python",
   "name": "python",
   "nbconvert_exporter": "python",
   "pygments_lexer": "ipython3",
   "version": "3.11.7"
  },
  "toc": {
   "base_numbering": 1,
   "nav_menu": {
    "height": "437px",
    "width": "249px"
   },
   "number_sections": true,
   "sideBar": true,
   "skip_h1_title": false,
   "title_cell": "Table of Contents",
   "title_sidebar": "Contents",
   "toc_cell": true,
   "toc_position": {},
   "toc_section_display": true,
   "toc_window_display": false
  }
 },
 "nbformat": 4,
 "nbformat_minor": 5
}
